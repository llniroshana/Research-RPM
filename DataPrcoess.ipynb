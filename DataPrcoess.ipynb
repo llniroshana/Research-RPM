{
  "nbformat": 4,
  "nbformat_minor": 0,
  "metadata": {
    "colab": {
      "name": "DataPrcoess.ipynb",
      "provenance": [],
      "include_colab_link": true
    },
    "kernelspec": {
      "display_name": "Python 3",
      "language": "python",
      "name": "python3"
    },
    "language_info": {
      "codemirror_mode": {
        "name": "ipython",
        "version": 3
      },
      "file_extension": ".py",
      "mimetype": "text/x-python",
      "name": "python",
      "nbconvert_exporter": "python",
      "pygments_lexer": "ipython3",
      "version": "3.7.4"
    }
  },
  "cells": [
    {
      "cell_type": "markdown",
      "metadata": {
        "id": "view-in-github",
        "colab_type": "text"
      },
      "source": [
        "<a href=\"https://colab.research.google.com/github/llniroshana/Research-RPM/blob/main/DataPrcoess.ipynb\" target=\"_parent\"><img src=\"https://colab.research.google.com/assets/colab-badge.svg\" alt=\"Open In Colab\"/></a>"
      ]
    },
    {
      "cell_type": "code",
      "metadata": {
        "colab": {
          "resources": {
            "http://localhost:8080/nbextensions/google.colab/files.js": {
              "data": "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",
              "ok": true,
              "headers": [
                [
                  "content-type",
                  "application/javascript"
                ]
              ],
              "status": 200,
              "status_text": ""
            }
          },
          "base_uri": "https://localhost:8080/",
          "height": 72
        },
        "id": "FawJE1evb05u",
        "outputId": "44a67ab1-775b-4f7f-b672-f36e7e99d5c8"
      },
      "source": [
        "import io\n",
        "import pandas as pd\n",
        "import numpy as np\n",
        "from sklearn.linear_model import LogisticRegression\n",
        "from sklearn import preprocessing\n",
        "from sklearn import model_selection\n",
        "from sklearn.metrics import confusion_matrix \n",
        "from sklearn.metrics import accuracy_score  \n",
        "from sklearn.metrics import classification_report \n",
        "\n",
        "from google.colab import files\n",
        "uploaded = files.upload()\n"
      ],
      "execution_count": null,
      "outputs": [
        {
          "output_type": "display_data",
          "data": {
            "text/html": [
              "\n",
              "     <input type=\"file\" id=\"files-79b54e78-3ade-4341-8e13-3e7d370977eb\" name=\"files[]\" multiple disabled\n",
              "        style=\"border:none\" />\n",
              "     <output id=\"result-79b54e78-3ade-4341-8e13-3e7d370977eb\">\n",
              "      Upload widget is only available when the cell has been executed in the\n",
              "      current browser session. Please rerun this cell to enable.\n",
              "      </output>\n",
              "      <script src=\"/nbextensions/google.colab/files.js\"></script> "
            ],
            "text/plain": [
              "<IPython.core.display.HTML object>"
            ]
          },
          "metadata": {
            "tags": []
          }
        },
        {
          "output_type": "stream",
          "text": [
            "Saving cdk_data.csv to cdk_data (3).csv\n"
          ],
          "name": "stdout"
        }
      ]
    },
    {
      "cell_type": "code",
      "metadata": {
        "id": "ZJN6XaQF-09o"
      },
      "source": [
        "data = pd.read_csv('cdk_data.csv',decimal=',')"
      ],
      "execution_count": null,
      "outputs": []
    },
    {
      "cell_type": "code",
      "metadata": {
        "colab": {
          "base_uri": "https://localhost:8080/",
          "height": 476
        },
        "id": "Dp8he7eBb055",
        "outputId": "b2afde50-fa00-48a3-c8fa-3fbc891a00db"
      },
      "source": [
        "data.head(5)"
      ],
      "execution_count": null,
      "outputs": [
        {
          "output_type": "execute_result",
          "data": {
            "text/html": [
              "<div>\n",
              "<style scoped>\n",
              "    .dataframe tbody tr th:only-of-type {\n",
              "        vertical-align: middle;\n",
              "    }\n",
              "\n",
              "    .dataframe tbody tr th {\n",
              "        vertical-align: top;\n",
              "    }\n",
              "\n",
              "    .dataframe thead th {\n",
              "        text-align: right;\n",
              "    }\n",
              "</style>\n",
              "<table border=\"1\" class=\"dataframe\">\n",
              "  <thead>\n",
              "    <tr style=\"text-align: right;\">\n",
              "      <th></th>\n",
              "      <th>Timestamp</th>\n",
              "      <th>What is your gender?</th>\n",
              "      <th>What is your age group?</th>\n",
              "      <th>How long you suffer from kidney disease?</th>\n",
              "      <th>Select your blood pressure level</th>\n",
              "      <th>Do you have frequent nausea?</th>\n",
              "      <th>Do you have frequent vomit?</th>\n",
              "      <th>Do you have a loss of appetite?</th>\n",
              "      <th>Is there a persistent itching in your skin?</th>\n",
              "      <th>Do you have frequent hiccups?</th>\n",
              "      <th>Is there metallic taste in your mouth?</th>\n",
              "      <th>Have you feel fatigue and weakness?</th>\n",
              "      <th>Do you have difficulties of sleeping?</th>\n",
              "      <th>Are there any changes in how much you urinate?</th>\n",
              "      <th>Have you feel decreased mental sharpness?</th>\n",
              "      <th>Do you have frequent muscle cramps / muscle twitches?</th>\n",
              "      <th>Are there Swelling of feet and ankles?</th>\n",
              "      <th>Is there any difficulty in controlling high blood pressure (hypertension)?</th>\n",
              "      <th>Final Status</th>\n",
              "    </tr>\n",
              "  </thead>\n",
              "  <tbody>\n",
              "    <tr>\n",
              "      <th>0</th>\n",
              "      <td>2021/06/26 11:44:15 AM GMT+5:30</td>\n",
              "      <td>Male</td>\n",
              "      <td>65 - 74 years</td>\n",
              "      <td>1 - 3 years</td>\n",
              "      <td>120 - 139 mm Hg</td>\n",
              "      <td>Yes</td>\n",
              "      <td>No</td>\n",
              "      <td>Yes</td>\n",
              "      <td>No</td>\n",
              "      <td>Yes</td>\n",
              "      <td>No</td>\n",
              "      <td>Yes</td>\n",
              "      <td>Yes</td>\n",
              "      <td>No</td>\n",
              "      <td>Yes</td>\n",
              "      <td>No</td>\n",
              "      <td>Yes</td>\n",
              "      <td>No</td>\n",
              "      <td>Critical Patient</td>\n",
              "    </tr>\n",
              "    <tr>\n",
              "      <th>1</th>\n",
              "      <td>2021/06/26 12:45:14 PM GMT+5:30</td>\n",
              "      <td>Female</td>\n",
              "      <td>55 - 64 years</td>\n",
              "      <td>Below 1 year</td>\n",
              "      <td>120 - 139 mm Hg</td>\n",
              "      <td>No</td>\n",
              "      <td>No</td>\n",
              "      <td>No</td>\n",
              "      <td>No</td>\n",
              "      <td>No</td>\n",
              "      <td>No</td>\n",
              "      <td>No</td>\n",
              "      <td>No</td>\n",
              "      <td>No</td>\n",
              "      <td>No</td>\n",
              "      <td>No</td>\n",
              "      <td>No</td>\n",
              "      <td>No</td>\n",
              "      <td>Not a Critical Patient</td>\n",
              "    </tr>\n",
              "    <tr>\n",
              "      <th>2</th>\n",
              "      <td>2021/06/26 2:10:58 PM GMT+5:30</td>\n",
              "      <td>Male</td>\n",
              "      <td>75 - 84 years</td>\n",
              "      <td>4 - 6 years</td>\n",
              "      <td>140 - 159 mm Hg</td>\n",
              "      <td>No</td>\n",
              "      <td>Yes</td>\n",
              "      <td>No</td>\n",
              "      <td>Yes</td>\n",
              "      <td>Yes</td>\n",
              "      <td>No</td>\n",
              "      <td>No</td>\n",
              "      <td>Yes</td>\n",
              "      <td>Yes</td>\n",
              "      <td>Yes</td>\n",
              "      <td>Yes</td>\n",
              "      <td>No</td>\n",
              "      <td>Yes</td>\n",
              "      <td>Critical Patient</td>\n",
              "    </tr>\n",
              "    <tr>\n",
              "      <th>3</th>\n",
              "      <td>2021/06/26 2:12:47 PM GMT+5:30</td>\n",
              "      <td>Female</td>\n",
              "      <td>55 - 64 years</td>\n",
              "      <td>1 - 3 years</td>\n",
              "      <td>140 - 159 mm Hg</td>\n",
              "      <td>No</td>\n",
              "      <td>Yes</td>\n",
              "      <td>No</td>\n",
              "      <td>Yes</td>\n",
              "      <td>No</td>\n",
              "      <td>No</td>\n",
              "      <td>Yes</td>\n",
              "      <td>Yes</td>\n",
              "      <td>Yes</td>\n",
              "      <td>No</td>\n",
              "      <td>Yes</td>\n",
              "      <td>No</td>\n",
              "      <td>No</td>\n",
              "      <td>Not a Critical Patient</td>\n",
              "    </tr>\n",
              "    <tr>\n",
              "      <th>4</th>\n",
              "      <td>2021/06/26 2:14:10 PM GMT+5:30</td>\n",
              "      <td>Female</td>\n",
              "      <td>85 - 94 years</td>\n",
              "      <td>1 - 3 years</td>\n",
              "      <td>120 - 139 mm Hg</td>\n",
              "      <td>Yes</td>\n",
              "      <td>No</td>\n",
              "      <td>Yes</td>\n",
              "      <td>Yes</td>\n",
              "      <td>No</td>\n",
              "      <td>Yes</td>\n",
              "      <td>Yes</td>\n",
              "      <td>No</td>\n",
              "      <td>Yes</td>\n",
              "      <td>No</td>\n",
              "      <td>Yes</td>\n",
              "      <td>No</td>\n",
              "      <td>No</td>\n",
              "      <td>Critical Patient</td>\n",
              "    </tr>\n",
              "  </tbody>\n",
              "</table>\n",
              "</div>"
            ],
            "text/plain": [
              "                         Timestamp  ...            Final Status\n",
              "0  2021/06/26 11:44:15 AM GMT+5:30  ...        Critical Patient\n",
              "1  2021/06/26 12:45:14 PM GMT+5:30  ...  Not a Critical Patient\n",
              "2   2021/06/26 2:10:58 PM GMT+5:30  ...        Critical Patient\n",
              "3   2021/06/26 2:12:47 PM GMT+5:30  ...  Not a Critical Patient\n",
              "4   2021/06/26 2:14:10 PM GMT+5:30  ...        Critical Patient\n",
              "\n",
              "[5 rows x 19 columns]"
            ]
          },
          "metadata": {
            "tags": []
          },
          "execution_count": 12
        }
      ]
    },
    {
      "cell_type": "code",
      "metadata": {
        "id": "15ytyLw3b057"
      },
      "source": [
        "data=data.drop(columns='Timestamp')"
      ],
      "execution_count": null,
      "outputs": []
    },
    {
      "cell_type": "code",
      "metadata": {
        "id": "tORB2ailb058"
      },
      "source": [
        "names=['gender',\n",
        "'age',\n",
        "'kidney_t',\n",
        "'pressure_le',\n",
        "'nausea_s',\n",
        "'vomit_s',\n",
        "'appetite_s',\n",
        "'itching_s',\n",
        "'hiccups_s',\n",
        "'taste_s',\n",
        "'fatigue_s',\n",
        "'sleep_s',\n",
        "'urinate_s',\n",
        "'mental_s',\n",
        "'muscle_s',\n",
        "'swelling_s',\n",
        "'hypertension_s',\n",
        "'classification_s']"
      ],
      "execution_count": null,
      "outputs": []
    },
    {
      "cell_type": "code",
      "metadata": {
        "id": "uSzDgRSub05-"
      },
      "source": [
        "data_top=list(data)"
      ],
      "execution_count": null,
      "outputs": []
    },
    {
      "cell_type": "code",
      "metadata": {
        "colab": {
          "base_uri": "https://localhost:8080/"
        },
        "id": "Z6HEhLZ3b05_",
        "outputId": "5b175ebd-fa45-4fce-8e7b-ea1cdc4cd8ce"
      },
      "source": [
        "data_top"
      ],
      "execution_count": null,
      "outputs": [
        {
          "output_type": "execute_result",
          "data": {
            "text/plain": [
              "['What is your gender?',\n",
              " 'What is your age group?',\n",
              " 'How long you suffer from kidney disease?',\n",
              " 'Select your blood pressure level',\n",
              " 'Do you have frequent nausea?',\n",
              " 'Do you have frequent vomit?',\n",
              " 'Do you have a loss of appetite?',\n",
              " 'Is there a persistent itching in your skin?',\n",
              " 'Do you have frequent hiccups?',\n",
              " 'Is there metallic taste in your mouth?',\n",
              " 'Have you feel fatigue and weakness?',\n",
              " 'Do you have difficulties of sleeping?',\n",
              " 'Are there any changes in how much you urinate?',\n",
              " 'Have you feel decreased mental sharpness?',\n",
              " 'Do you have frequent muscle cramps / muscle twitches?',\n",
              " 'Are there Swelling of feet and ankles?',\n",
              " 'Is there any difficulty in controlling high blood pressure (hypertension)?',\n",
              " 'Final Status']"
            ]
          },
          "metadata": {
            "tags": []
          },
          "execution_count": 17
        }
      ]
    },
    {
      "cell_type": "markdown",
      "metadata": {
        "id": "mlHXh-Pgb06A"
      },
      "source": [
        ""
      ]
    },
    {
      "cell_type": "code",
      "metadata": {
        "id": "3LouU9h1b06C"
      },
      "source": [
        "df = data.rename(columns={data_top[0]:names[0],\n",
        "                          data_top[1]:names[1],\n",
        "                          data_top[2]:names[2],\n",
        "                          data_top[3]:names[3],\n",
        "                          data_top[4]:names[4],\n",
        "                          data_top[5]:names[5],\n",
        "                          data_top[6]:names[6],\n",
        "                          data_top[7]:names[7],\n",
        "                          data_top[8]:names[8],\n",
        "                          data_top[9]:names[9],\n",
        "                          data_top[10]:names[10],\n",
        "                          data_top[11]:names[11],\n",
        "                          data_top[12]:names[12],\n",
        "                          data_top[13]:names[13],\n",
        "                          data_top[14]:names[14],\n",
        "                          data_top[15]:names[15],\n",
        "                          data_top[16]:names[16],\n",
        "                          data_top[17]:names[17]      \n",
        "                         })\n"
      ],
      "execution_count": null,
      "outputs": []
    },
    {
      "cell_type": "code",
      "metadata": {
        "colab": {
          "base_uri": "https://localhost:8080/",
          "height": 359
        },
        "id": "7BwMIGGGb06D",
        "outputId": "f0a49259-745d-4de5-ffef-a054ab09efe9"
      },
      "source": [
        "df.head(10)"
      ],
      "execution_count": null,
      "outputs": [
        {
          "output_type": "execute_result",
          "data": {
            "text/html": [
              "<div>\n",
              "<style scoped>\n",
              "    .dataframe tbody tr th:only-of-type {\n",
              "        vertical-align: middle;\n",
              "    }\n",
              "\n",
              "    .dataframe tbody tr th {\n",
              "        vertical-align: top;\n",
              "    }\n",
              "\n",
              "    .dataframe thead th {\n",
              "        text-align: right;\n",
              "    }\n",
              "</style>\n",
              "<table border=\"1\" class=\"dataframe\">\n",
              "  <thead>\n",
              "    <tr style=\"text-align: right;\">\n",
              "      <th></th>\n",
              "      <th>gender</th>\n",
              "      <th>age</th>\n",
              "      <th>kidney_t</th>\n",
              "      <th>pressure_le</th>\n",
              "      <th>nausea_s</th>\n",
              "      <th>vomit_s</th>\n",
              "      <th>appetite_s</th>\n",
              "      <th>itching_s</th>\n",
              "      <th>hiccups_s</th>\n",
              "      <th>taste_s</th>\n",
              "      <th>fatigue_s</th>\n",
              "      <th>sleep_s</th>\n",
              "      <th>urinate_s</th>\n",
              "      <th>mental_s</th>\n",
              "      <th>muscle_s</th>\n",
              "      <th>swelling_s</th>\n",
              "      <th>hypertension_s</th>\n",
              "      <th>classification_s</th>\n",
              "    </tr>\n",
              "  </thead>\n",
              "  <tbody>\n",
              "    <tr>\n",
              "      <th>0</th>\n",
              "      <td>Male</td>\n",
              "      <td>65 - 74 years</td>\n",
              "      <td>1 - 3 years</td>\n",
              "      <td>120 - 139 mm Hg</td>\n",
              "      <td>Yes</td>\n",
              "      <td>No</td>\n",
              "      <td>Yes</td>\n",
              "      <td>No</td>\n",
              "      <td>Yes</td>\n",
              "      <td>No</td>\n",
              "      <td>Yes</td>\n",
              "      <td>Yes</td>\n",
              "      <td>No</td>\n",
              "      <td>Yes</td>\n",
              "      <td>No</td>\n",
              "      <td>Yes</td>\n",
              "      <td>No</td>\n",
              "      <td>Critical Patient</td>\n",
              "    </tr>\n",
              "    <tr>\n",
              "      <th>1</th>\n",
              "      <td>Female</td>\n",
              "      <td>55 - 64 years</td>\n",
              "      <td>Below 1 year</td>\n",
              "      <td>120 - 139 mm Hg</td>\n",
              "      <td>No</td>\n",
              "      <td>No</td>\n",
              "      <td>No</td>\n",
              "      <td>No</td>\n",
              "      <td>No</td>\n",
              "      <td>No</td>\n",
              "      <td>No</td>\n",
              "      <td>No</td>\n",
              "      <td>No</td>\n",
              "      <td>No</td>\n",
              "      <td>No</td>\n",
              "      <td>No</td>\n",
              "      <td>No</td>\n",
              "      <td>Not a Critical Patient</td>\n",
              "    </tr>\n",
              "    <tr>\n",
              "      <th>2</th>\n",
              "      <td>Male</td>\n",
              "      <td>75 - 84 years</td>\n",
              "      <td>4 - 6 years</td>\n",
              "      <td>140 - 159 mm Hg</td>\n",
              "      <td>No</td>\n",
              "      <td>Yes</td>\n",
              "      <td>No</td>\n",
              "      <td>Yes</td>\n",
              "      <td>Yes</td>\n",
              "      <td>No</td>\n",
              "      <td>No</td>\n",
              "      <td>Yes</td>\n",
              "      <td>Yes</td>\n",
              "      <td>Yes</td>\n",
              "      <td>Yes</td>\n",
              "      <td>No</td>\n",
              "      <td>Yes</td>\n",
              "      <td>Critical Patient</td>\n",
              "    </tr>\n",
              "    <tr>\n",
              "      <th>3</th>\n",
              "      <td>Female</td>\n",
              "      <td>55 - 64 years</td>\n",
              "      <td>1 - 3 years</td>\n",
              "      <td>140 - 159 mm Hg</td>\n",
              "      <td>No</td>\n",
              "      <td>Yes</td>\n",
              "      <td>No</td>\n",
              "      <td>Yes</td>\n",
              "      <td>No</td>\n",
              "      <td>No</td>\n",
              "      <td>Yes</td>\n",
              "      <td>Yes</td>\n",
              "      <td>Yes</td>\n",
              "      <td>No</td>\n",
              "      <td>Yes</td>\n",
              "      <td>No</td>\n",
              "      <td>No</td>\n",
              "      <td>Not a Critical Patient</td>\n",
              "    </tr>\n",
              "    <tr>\n",
              "      <th>4</th>\n",
              "      <td>Female</td>\n",
              "      <td>85 - 94 years</td>\n",
              "      <td>1 - 3 years</td>\n",
              "      <td>120 - 139 mm Hg</td>\n",
              "      <td>Yes</td>\n",
              "      <td>No</td>\n",
              "      <td>Yes</td>\n",
              "      <td>Yes</td>\n",
              "      <td>No</td>\n",
              "      <td>Yes</td>\n",
              "      <td>Yes</td>\n",
              "      <td>No</td>\n",
              "      <td>Yes</td>\n",
              "      <td>No</td>\n",
              "      <td>Yes</td>\n",
              "      <td>No</td>\n",
              "      <td>No</td>\n",
              "      <td>Critical Patient</td>\n",
              "    </tr>\n",
              "    <tr>\n",
              "      <th>5</th>\n",
              "      <td>Female</td>\n",
              "      <td>55 - 64 years</td>\n",
              "      <td>Below 1 year</td>\n",
              "      <td>&lt; 120 mm Hg</td>\n",
              "      <td>No</td>\n",
              "      <td>No</td>\n",
              "      <td>No</td>\n",
              "      <td>No</td>\n",
              "      <td>No</td>\n",
              "      <td>No</td>\n",
              "      <td>Yes</td>\n",
              "      <td>No</td>\n",
              "      <td>No</td>\n",
              "      <td>No</td>\n",
              "      <td>Yes</td>\n",
              "      <td>No</td>\n",
              "      <td>No</td>\n",
              "      <td>Not a Critical Patient</td>\n",
              "    </tr>\n",
              "    <tr>\n",
              "      <th>6</th>\n",
              "      <td>Male</td>\n",
              "      <td>65 - 74 years</td>\n",
              "      <td>1 - 3 years</td>\n",
              "      <td>120 - 139 mm Hg</td>\n",
              "      <td>Yes</td>\n",
              "      <td>No</td>\n",
              "      <td>No</td>\n",
              "      <td>Yes</td>\n",
              "      <td>No</td>\n",
              "      <td>Yes</td>\n",
              "      <td>No</td>\n",
              "      <td>Yes</td>\n",
              "      <td>Yes</td>\n",
              "      <td>No</td>\n",
              "      <td>No</td>\n",
              "      <td>No</td>\n",
              "      <td>No</td>\n",
              "      <td>Critical Patient</td>\n",
              "    </tr>\n",
              "    <tr>\n",
              "      <th>7</th>\n",
              "      <td>Female</td>\n",
              "      <td>75 - 84 years</td>\n",
              "      <td>Below 1 year</td>\n",
              "      <td>120 - 139 mm Hg</td>\n",
              "      <td>Yes</td>\n",
              "      <td>Yes</td>\n",
              "      <td>Yes</td>\n",
              "      <td>Yes</td>\n",
              "      <td>No</td>\n",
              "      <td>No</td>\n",
              "      <td>No</td>\n",
              "      <td>Yes</td>\n",
              "      <td>No</td>\n",
              "      <td>Yes</td>\n",
              "      <td>No</td>\n",
              "      <td>Yes</td>\n",
              "      <td>No</td>\n",
              "      <td>Critical Patient</td>\n",
              "    </tr>\n",
              "    <tr>\n",
              "      <th>8</th>\n",
              "      <td>Male</td>\n",
              "      <td>75 - 84 years</td>\n",
              "      <td>Below 1 year</td>\n",
              "      <td>140 - 159 mm Hg</td>\n",
              "      <td>Yes</td>\n",
              "      <td>No</td>\n",
              "      <td>Yes</td>\n",
              "      <td>No</td>\n",
              "      <td>Yes</td>\n",
              "      <td>No</td>\n",
              "      <td>Yes</td>\n",
              "      <td>Yes</td>\n",
              "      <td>No</td>\n",
              "      <td>Yes</td>\n",
              "      <td>No</td>\n",
              "      <td>Yes</td>\n",
              "      <td>Yes</td>\n",
              "      <td>Critical Patient</td>\n",
              "    </tr>\n",
              "    <tr>\n",
              "      <th>9</th>\n",
              "      <td>Female</td>\n",
              "      <td>55 - 64 years</td>\n",
              "      <td>1 - 3 years</td>\n",
              "      <td>120 - 139 mm Hg</td>\n",
              "      <td>Yes</td>\n",
              "      <td>Yes</td>\n",
              "      <td>Yes</td>\n",
              "      <td>No</td>\n",
              "      <td>Yes</td>\n",
              "      <td>No</td>\n",
              "      <td>Yes</td>\n",
              "      <td>Yes</td>\n",
              "      <td>No</td>\n",
              "      <td>Yes</td>\n",
              "      <td>No</td>\n",
              "      <td>No</td>\n",
              "      <td>No</td>\n",
              "      <td>Critical Patient</td>\n",
              "    </tr>\n",
              "  </tbody>\n",
              "</table>\n",
              "</div>"
            ],
            "text/plain": [
              "   gender            age  ... hypertension_s        classification_s\n",
              "0    Male  65 - 74 years  ...             No        Critical Patient\n",
              "1  Female  55 - 64 years  ...             No  Not a Critical Patient\n",
              "2    Male  75 - 84 years  ...            Yes        Critical Patient\n",
              "3  Female  55 - 64 years  ...             No  Not a Critical Patient\n",
              "4  Female  85 - 94 years  ...             No        Critical Patient\n",
              "5  Female  55 - 64 years  ...             No  Not a Critical Patient\n",
              "6    Male  65 - 74 years  ...             No        Critical Patient\n",
              "7  Female  75 - 84 years  ...             No        Critical Patient\n",
              "8    Male  75 - 84 years  ...            Yes        Critical Patient\n",
              "9  Female  55 - 64 years  ...             No        Critical Patient\n",
              "\n",
              "[10 rows x 18 columns]"
            ]
          },
          "metadata": {
            "tags": []
          },
          "execution_count": 19
        }
      ]
    },
    {
      "cell_type": "code",
      "metadata": {
        "colab": {
          "base_uri": "https://localhost:8080/"
        },
        "id": "qmoOMt75b06G",
        "outputId": "5493ad5b-37aa-4a96-87df-48620f54edc0"
      },
      "source": [
        "df.info()"
      ],
      "execution_count": null,
      "outputs": [
        {
          "output_type": "stream",
          "text": [
            "<class 'pandas.core.frame.DataFrame'>\n",
            "RangeIndex: 128 entries, 0 to 127\n",
            "Data columns (total 18 columns):\n",
            " #   Column            Non-Null Count  Dtype \n",
            "---  ------            --------------  ----- \n",
            " 0   gender            128 non-null    object\n",
            " 1   age               128 non-null    object\n",
            " 2   kidney_t          128 non-null    object\n",
            " 3   pressure_le       128 non-null    object\n",
            " 4   nausea_s          128 non-null    object\n",
            " 5   vomit_s           128 non-null    object\n",
            " 6   appetite_s        128 non-null    object\n",
            " 7   itching_s         128 non-null    object\n",
            " 8   hiccups_s         128 non-null    object\n",
            " 9   taste_s           128 non-null    object\n",
            " 10  fatigue_s         128 non-null    object\n",
            " 11  sleep_s           128 non-null    object\n",
            " 12  urinate_s         128 non-null    object\n",
            " 13  mental_s          128 non-null    object\n",
            " 14  muscle_s          128 non-null    object\n",
            " 15  swelling_s        128 non-null    object\n",
            " 16  hypertension_s    128 non-null    object\n",
            " 17  classification_s  128 non-null    object\n",
            "dtypes: object(18)\n",
            "memory usage: 18.1+ KB\n"
          ],
          "name": "stdout"
        }
      ]
    },
    {
      "cell_type": "code",
      "metadata": {
        "colab": {
          "base_uri": "https://localhost:8080/"
        },
        "id": "bHdqjyj7b06H",
        "outputId": "f6cedce3-4edb-4d88-8aaa-14b3418b4522"
      },
      "source": [
        "print(\"Shape :\",df.shape)"
      ],
      "execution_count": null,
      "outputs": [
        {
          "output_type": "stream",
          "text": [
            "Shape : (128, 18)\n"
          ],
          "name": "stdout"
        }
      ]
    },
    {
      "cell_type": "code",
      "metadata": {
        "colab": {
          "base_uri": "https://localhost:8080/"
        },
        "id": "o2TVl1knb06I",
        "outputId": "59df2af2-ac30-412d-d118-ea022a6b6fe0"
      },
      "source": [
        "print(df.describe())"
      ],
      "execution_count": null,
      "outputs": [
        {
          "output_type": "stream",
          "text": [
            "        gender            age  ... hypertension_s  classification_s\n",
            "count      128            128  ...            128               128\n",
            "unique       2              5  ...              2                 2\n",
            "top     Female  65 - 74 years  ...             No  Critical Patient\n",
            "freq        69             43  ...             72                87\n",
            "\n",
            "[4 rows x 18 columns]\n"
          ],
          "name": "stdout"
        }
      ]
    },
    {
      "cell_type": "code",
      "metadata": {
        "colab": {
          "base_uri": "https://localhost:8080/",
          "height": 173
        },
        "id": "L4ugUl5hb06J",
        "outputId": "037257ea-2fdd-4fd5-ac68-960e1bf30ae7"
      },
      "source": [
        "#we will deal with categorical data after cleaning the data\n",
        "df.astype('category').describe()"
      ],
      "execution_count": null,
      "outputs": [
        {
          "output_type": "execute_result",
          "data": {
            "text/html": [
              "<div>\n",
              "<style scoped>\n",
              "    .dataframe tbody tr th:only-of-type {\n",
              "        vertical-align: middle;\n",
              "    }\n",
              "\n",
              "    .dataframe tbody tr th {\n",
              "        vertical-align: top;\n",
              "    }\n",
              "\n",
              "    .dataframe thead th {\n",
              "        text-align: right;\n",
              "    }\n",
              "</style>\n",
              "<table border=\"1\" class=\"dataframe\">\n",
              "  <thead>\n",
              "    <tr style=\"text-align: right;\">\n",
              "      <th></th>\n",
              "      <th>gender</th>\n",
              "      <th>age</th>\n",
              "      <th>kidney_t</th>\n",
              "      <th>pressure_le</th>\n",
              "      <th>nausea_s</th>\n",
              "      <th>vomit_s</th>\n",
              "      <th>appetite_s</th>\n",
              "      <th>itching_s</th>\n",
              "      <th>hiccups_s</th>\n",
              "      <th>taste_s</th>\n",
              "      <th>fatigue_s</th>\n",
              "      <th>sleep_s</th>\n",
              "      <th>urinate_s</th>\n",
              "      <th>mental_s</th>\n",
              "      <th>muscle_s</th>\n",
              "      <th>swelling_s</th>\n",
              "      <th>hypertension_s</th>\n",
              "      <th>classification_s</th>\n",
              "    </tr>\n",
              "  </thead>\n",
              "  <tbody>\n",
              "    <tr>\n",
              "      <th>count</th>\n",
              "      <td>128</td>\n",
              "      <td>128</td>\n",
              "      <td>128</td>\n",
              "      <td>128</td>\n",
              "      <td>128</td>\n",
              "      <td>128</td>\n",
              "      <td>128</td>\n",
              "      <td>128</td>\n",
              "      <td>128</td>\n",
              "      <td>128</td>\n",
              "      <td>128</td>\n",
              "      <td>128</td>\n",
              "      <td>128</td>\n",
              "      <td>128</td>\n",
              "      <td>128</td>\n",
              "      <td>128</td>\n",
              "      <td>128</td>\n",
              "      <td>128</td>\n",
              "    </tr>\n",
              "    <tr>\n",
              "      <th>unique</th>\n",
              "      <td>2</td>\n",
              "      <td>5</td>\n",
              "      <td>4</td>\n",
              "      <td>4</td>\n",
              "      <td>2</td>\n",
              "      <td>2</td>\n",
              "      <td>2</td>\n",
              "      <td>2</td>\n",
              "      <td>2</td>\n",
              "      <td>2</td>\n",
              "      <td>2</td>\n",
              "      <td>2</td>\n",
              "      <td>2</td>\n",
              "      <td>2</td>\n",
              "      <td>2</td>\n",
              "      <td>2</td>\n",
              "      <td>2</td>\n",
              "      <td>2</td>\n",
              "    </tr>\n",
              "    <tr>\n",
              "      <th>top</th>\n",
              "      <td>Female</td>\n",
              "      <td>65 - 74 years</td>\n",
              "      <td>1 - 3 years</td>\n",
              "      <td>120 - 139 mm Hg</td>\n",
              "      <td>Yes</td>\n",
              "      <td>No</td>\n",
              "      <td>No</td>\n",
              "      <td>No</td>\n",
              "      <td>No</td>\n",
              "      <td>No</td>\n",
              "      <td>Yes</td>\n",
              "      <td>No</td>\n",
              "      <td>Yes</td>\n",
              "      <td>No</td>\n",
              "      <td>Yes</td>\n",
              "      <td>No</td>\n",
              "      <td>No</td>\n",
              "      <td>Critical Patient</td>\n",
              "    </tr>\n",
              "    <tr>\n",
              "      <th>freq</th>\n",
              "      <td>69</td>\n",
              "      <td>43</td>\n",
              "      <td>62</td>\n",
              "      <td>86</td>\n",
              "      <td>90</td>\n",
              "      <td>84</td>\n",
              "      <td>66</td>\n",
              "      <td>74</td>\n",
              "      <td>72</td>\n",
              "      <td>75</td>\n",
              "      <td>65</td>\n",
              "      <td>66</td>\n",
              "      <td>68</td>\n",
              "      <td>68</td>\n",
              "      <td>65</td>\n",
              "      <td>70</td>\n",
              "      <td>72</td>\n",
              "      <td>87</td>\n",
              "    </tr>\n",
              "  </tbody>\n",
              "</table>\n",
              "</div>"
            ],
            "text/plain": [
              "        gender            age  ... hypertension_s  classification_s\n",
              "count      128            128  ...            128               128\n",
              "unique       2              5  ...              2                 2\n",
              "top     Female  65 - 74 years  ...             No  Critical Patient\n",
              "freq        69             43  ...             72                87\n",
              "\n",
              "[4 rows x 18 columns]"
            ]
          },
          "metadata": {
            "tags": []
          },
          "execution_count": 23
        }
      ]
    },
    {
      "cell_type": "code",
      "metadata": {
        "colab": {
          "base_uri": "https://localhost:8080/"
        },
        "id": "rD2Vhn7mb06J",
        "outputId": "a11821cc-1cd6-4862-de7b-5fcc2888a4e2"
      },
      "source": [
        "df.isnull().sum()"
      ],
      "execution_count": null,
      "outputs": [
        {
          "output_type": "execute_result",
          "data": {
            "text/plain": [
              "gender              0\n",
              "age                 0\n",
              "kidney_t            0\n",
              "pressure_le         0\n",
              "nausea_s            0\n",
              "vomit_s             0\n",
              "appetite_s          0\n",
              "itching_s           0\n",
              "hiccups_s           0\n",
              "taste_s             0\n",
              "fatigue_s           0\n",
              "sleep_s             0\n",
              "urinate_s           0\n",
              "mental_s            0\n",
              "muscle_s            0\n",
              "swelling_s          0\n",
              "hypertension_s      0\n",
              "classification_s    0\n",
              "dtype: int64"
            ]
          },
          "metadata": {
            "tags": []
          },
          "execution_count": 24
        }
      ]
    },
    {
      "cell_type": "markdown",
      "metadata": {
        "id": "hBhaL1_Q7qYI"
      },
      "source": [
        "**Data Visualization**"
      ]
    },
    {
      "cell_type": "code",
      "metadata": {
        "id": "N12HeQp77ntf"
      },
      "source": [
        "import seaborn as sns\n",
        "import matplotlib.ticker as ticker\n",
        "import matplotlib.cm as cm\n",
        "import matplotlib as mpl\n",
        "from matplotlib.gridspec import GridSpec\n",
        "import matplotlib.pyplot as plt"
      ],
      "execution_count": null,
      "outputs": []
    },
    {
      "cell_type": "code",
      "metadata": {
        "id": "D4IQ4uQR708Y"
      },
      "source": [
        "cmap = plt.get_cmap('Spectral')\n",
        "colors = [cmap(i) for i in np.linspace(0, 1, 8)]"
      ],
      "execution_count": null,
      "outputs": []
    },
    {
      "cell_type": "code",
      "metadata": {
        "colab": {
          "base_uri": "https://localhost:8080/",
          "height": 717
        },
        "id": "xIts424c72jY",
        "outputId": "ed9b2e1a-a5f4-4411-f419-eed01883956c"
      },
      "source": [
        "fig, ax = plt.subplots(2,2, figsize=(15,10))\n",
        "\n",
        "df['nausea_s'].value_counts().plot(kind='bar',color = colors, ax=ax[0,0])\n",
        "df['vomit_s'].value_counts().plot(kind='bar',color = colors, ax=ax[0,1])\n",
        "df['appetite_s'].value_counts().plot(kind='bar',color = colors, ax=ax[1,0])\n",
        "df['classification_s'].value_counts().plot(kind='bar',color = colors, ax=ax[1,1])\n",
        "\n",
        "ax[0, 0].set_title(\"Do you have frequent nausea?\")\n",
        "ax[0, 1].set_title(\"Do you have frequent vomit?\")\n",
        "ax[1, 0].set_title(\"Do you have a loss of appetite?\")\n",
        "ax[1, 1].set_title(\"CDK status\")"
      ],
      "execution_count": null,
      "outputs": [
        {
          "output_type": "execute_result",
          "data": {
            "text/plain": [
              "Text(0.5, 1.0, 'CDK status')"
            ]
          },
          "metadata": {
            "tags": []
          },
          "execution_count": 27
        },
        {
          "output_type": "display_data",
          "data": {
            "image/png": "[encoded data removed]",
            "text/plain": [
              "<Figure size 1080x720 with 4 Axes>"
            ]
          },
          "metadata": {
            "tags": [],
            "needs_background": "light"
          }
        }
      ]
    },
    {
      "cell_type": "markdown",
      "metadata": {
        "id": "uavGvvQw79Gd"
      },
      "source": [
        "# Data Preprocessing "
      ]
    },
    {
      "cell_type": "code",
      "metadata": {
        "colab": {
          "base_uri": "https://localhost:8080/"
        },
        "id": "68gXqRpdb06K",
        "outputId": "b00bd14c-d05e-4163-983e-680a4fe6bd13"
      },
      "source": [
        "df['age'].unique()"
      ],
      "execution_count": null,
      "outputs": [
        {
          "output_type": "execute_result",
          "data": {
            "text/plain": [
              "array(['65 - 74 years', '55 - 64 years', '75 - 84 years', '85 - 94 years',\n",
              "       'Above 95 years'], dtype=object)"
            ]
          },
          "metadata": {
            "tags": []
          },
          "execution_count": 28
        }
      ]
    },
    {
      "cell_type": "code",
      "metadata": {
        "colab": {
          "base_uri": "https://localhost:8080/"
        },
        "id": "uk0jmBw97NSq",
        "outputId": "0cee257a-ed38-4029-cff1-e08914bf531e"
      },
      "source": [
        "df['gender'].unique()"
      ],
      "execution_count": null,
      "outputs": [
        {
          "output_type": "execute_result",
          "data": {
            "text/plain": [
              "array(['Male', 'Female'], dtype=object)"
            ]
          },
          "metadata": {
            "tags": []
          },
          "execution_count": 29
        }
      ]
    },
    {
      "cell_type": "code",
      "metadata": {
        "id": "vD8o9_-38IS9"
      },
      "source": [
        "df[\"gender\"].replace({\"Male\":0}, inplace=True)\n",
        "df[\"gender\"].replace({\"Female\":1 }, inplace=True)"
      ],
      "execution_count": null,
      "outputs": []
    },
    {
      "cell_type": "code",
      "metadata": {
        "id": "DkSIKzcbb06L"
      },
      "source": [
        "df[\"age\"].replace({\"65 - 74 years\":0 }, inplace=True)\n",
        "df[\"age\"].replace({\"55 - 64 years\":1 }, inplace=True)\n",
        "df[\"age\"].replace({\"75 - 84 years\":2 }, inplace=True)\n",
        "df[\"age\"].replace({\"85 - 94 years\":3 }, inplace=True)\n",
        "df[\"age\"].replace({\"Above 95 years\":4 }, inplace=True)"
      ],
      "execution_count": null,
      "outputs": []
    },
    {
      "cell_type": "code",
      "metadata": {
        "id": "iHmZ86lIb06M"
      },
      "source": [
        "df[\"pressure_le\"].replace({\"< 120 mm Hg\":0 }, inplace=True)\n",
        "df[\"pressure_le\"].replace({\"120 - 139 mm Hg\":1 }, inplace=True)\n",
        "df[\"pressure_le\"].replace({\"140 - 159 mm Hg\":2 }, inplace=True)\n",
        "df[\"pressure_le\"].replace({\"160 - 179 mm Hg\":3 }, inplace=True)"
      ],
      "execution_count": null,
      "outputs": []
    },
    {
      "cell_type": "code",
      "metadata": {
        "id": "NrfEJqMAb06M"
      },
      "source": [
        "df[\"kidney_t\"].replace({\"Below 1 year\":0 }, inplace=True)\n",
        "df[\"kidney_t\"].replace({\"1 - 3 years\":1 }, inplace=True)\n",
        "df[\"kidney_t\"].replace({\"4 - 6 years\":2 }, inplace=True)\n",
        "df[\"kidney_t\"].replace({\"Above 7 years\":3 }, inplace=True)"
      ],
      "execution_count": null,
      "outputs": []
    },
    {
      "cell_type": "code",
      "metadata": {
        "id": "yO_Ig7Gr8dk6"
      },
      "source": [
        "df[\"classification_s\"].replace({\"Critical Patient\":1}, inplace=True)\n",
        "df[\"classification_s\"].replace({\"Not a Critical Patient\":0}, inplace=True)"
      ],
      "execution_count": null,
      "outputs": []
    },
    {
      "cell_type": "code",
      "metadata": {
        "id": "gkdNUGeB8npW"
      },
      "source": [
        "df[\"nausea_s\"].replace({\"Yes\":1}, inplace=True)\n",
        "df[\"nausea_s\"].replace({\"No\":0}, inplace=True)"
      ],
      "execution_count": null,
      "outputs": []
    },
    {
      "cell_type": "code",
      "metadata": {
        "id": "1WryBbcW81nx"
      },
      "source": [
        "df[\"vomit_s\"].replace({\"Yes\":1}, inplace=True)\n",
        "df[\"vomit_s\"].replace({\"No\":0}, inplace=True)"
      ],
      "execution_count": null,
      "outputs": []
    },
    {
      "cell_type": "code",
      "metadata": {
        "id": "mf_8O29l86OZ"
      },
      "source": [
        "df[\"appetite_s\"].replace({\"Yes\":1}, inplace=True)\n",
        "df[\"appetite_s\"].replace({\"No\":0}, inplace=True)"
      ],
      "execution_count": null,
      "outputs": []
    },
    {
      "cell_type": "code",
      "metadata": {
        "id": "J1eFb9YX9FG6"
      },
      "source": [
        "df[\"itching_s\"].replace({\"Yes\":1}, inplace=True)\n",
        "df[\"itching_s\"].replace({\"No\":0}, inplace=True)\n",
        "\n",
        "df[\"hiccups_s\"].replace({\"Yes\":1}, inplace=True)\n",
        "df[\"hiccups_s\"].replace({\"No\":0}, inplace=True)\n",
        "\n",
        "df[\"taste_s\"].replace({\"Yes\":1}, inplace=True)\n",
        "df[\"taste_s\"].replace({\"No\":0}, inplace=True)\n",
        "\n",
        "df[\"fatigue_s\"].replace({\"Yes\":1}, inplace=True)\n",
        "df[\"fatigue_s\"].replace({\"No\":0}, inplace=True)\n",
        "\n",
        "df[\"sleep_s\"].replace({\"Yes\":1}, inplace=True)\n",
        "df[\"sleep_s\"].replace({\"No\":0}, inplace=True)\n",
        "\n",
        "df[\"urinate_s\"].replace({\"Yes\":1}, inplace=True)\n",
        "df[\"urinate_s\"].replace({\"No\":0}, inplace=True)\n",
        "\n",
        "df[\"mental_s\"].replace({\"Yes\":1}, inplace=True)\n",
        "df[\"mental_s\"].replace({\"No\":0}, inplace=True)\n",
        "\n",
        "df[\"muscle_s\"].replace({\"Yes\":1}, inplace=True)\n",
        "df[\"muscle_s\"].replace({\"No\":0}, inplace=True)\n",
        "\n",
        "df[\"swelling_s\"].replace({\"Yes\":1}, inplace=True)\n",
        "df[\"swelling_s\"].replace({\"No\": 0}, inplace=True)\n",
        "\n",
        "df[\"hypertension_s\"].replace({\"Yes\":1}, inplace=True)\n",
        "df[\"hypertension_s\"].replace({\"No\":0}, inplace=True)\n"
      ],
      "execution_count": null,
      "outputs": []
    },
    {
      "cell_type": "code",
      "metadata": {
        "colab": {
          "base_uri": "https://localhost:8080/"
        },
        "id": "KgOlCcX8b06Q",
        "outputId": "c2dcb9a2-178f-43ac-b696-6bec9c398e15"
      },
      "source": [
        " names"
      ],
      "execution_count": null,
      "outputs": [
        {
          "output_type": "execute_result",
          "data": {
            "text/plain": [
              "['gender',\n",
              " 'age',\n",
              " 'kidney_t',\n",
              " 'pressure_le',\n",
              " 'nausea_s',\n",
              " 'vomit_s',\n",
              " 'appetite_s',\n",
              " 'itching_s',\n",
              " 'hiccups_s',\n",
              " 'taste_s',\n",
              " 'fatigue_s',\n",
              " 'sleep_s',\n",
              " 'urinate_s',\n",
              " 'mental_s',\n",
              " 'muscle_s',\n",
              " 'swelling_s',\n",
              " 'hypertension_s',\n",
              " 'classification_s']"
            ]
          },
          "metadata": {
            "tags": []
          },
          "execution_count": 39
        }
      ]
    },
    {
      "cell_type": "code",
      "metadata": {
        "colab": {
          "base_uri": "https://localhost:8080/",
          "height": 419
        },
        "id": "QjNbI9Rgb06S",
        "outputId": "c52ad083-2619-49d8-c536-05e761f51be1"
      },
      "source": [
        "df"
      ],
      "execution_count": null,
      "outputs": [
        {
          "output_type": "execute_result",
          "data": {
            "text/html": [
              "<div>\n",
              "<style scoped>\n",
              "    .dataframe tbody tr th:only-of-type {\n",
              "        vertical-align: middle;\n",
              "    }\n",
              "\n",
              "    .dataframe tbody tr th {\n",
              "        vertical-align: top;\n",
              "    }\n",
              "\n",
              "    .dataframe thead th {\n",
              "        text-align: right;\n",
              "    }\n",
              "</style>\n",
              "<table border=\"1\" class=\"dataframe\">\n",
              "  <thead>\n",
              "    <tr style=\"text-align: right;\">\n",
              "      <th></th>\n",
              "      <th>gender</th>\n",
              "      <th>age</th>\n",
              "      <th>kidney_t</th>\n",
              "      <th>pressure_le</th>\n",
              "      <th>nausea_s</th>\n",
              "      <th>vomit_s</th>\n",
              "      <th>appetite_s</th>\n",
              "      <th>itching_s</th>\n",
              "      <th>hiccups_s</th>\n",
              "      <th>taste_s</th>\n",
              "      <th>fatigue_s</th>\n",
              "      <th>sleep_s</th>\n",
              "      <th>urinate_s</th>\n",
              "      <th>mental_s</th>\n",
              "      <th>muscle_s</th>\n",
              "      <th>swelling_s</th>\n",
              "      <th>hypertension_s</th>\n",
              "      <th>classification_s</th>\n",
              "    </tr>\n",
              "  </thead>\n",
              "  <tbody>\n",
              "    <tr>\n",
              "      <th>0</th>\n",
              "      <td>0</td>\n",
              "      <td>0</td>\n",
              "      <td>1</td>\n",
              "      <td>1</td>\n",
              "      <td>1</td>\n",
              "      <td>0</td>\n",
              "      <td>1</td>\n",
              "      <td>0</td>\n",
              "      <td>1</td>\n",
              "      <td>0</td>\n",
              "      <td>1</td>\n",
              "      <td>1</td>\n",
              "      <td>0</td>\n",
              "      <td>1</td>\n",
              "      <td>0</td>\n",
              "      <td>1</td>\n",
              "      <td>0</td>\n",
              "      <td>1</td>\n",
              "    </tr>\n",
              "    <tr>\n",
              "      <th>1</th>\n",
              "      <td>1</td>\n",
              "      <td>1</td>\n",
              "      <td>0</td>\n",
              "      <td>1</td>\n",
              "      <td>0</td>\n",
              "      <td>0</td>\n",
              "      <td>0</td>\n",
              "      <td>0</td>\n",
              "      <td>0</td>\n",
              "      <td>0</td>\n",
              "      <td>0</td>\n",
              "      <td>0</td>\n",
              "      <td>0</td>\n",
              "      <td>0</td>\n",
              "      <td>0</td>\n",
              "      <td>0</td>\n",
              "      <td>0</td>\n",
              "      <td>0</td>\n",
              "    </tr>\n",
              "    <tr>\n",
              "      <th>2</th>\n",
              "      <td>0</td>\n",
              "      <td>2</td>\n",
              "      <td>2</td>\n",
              "      <td>2</td>\n",
              "      <td>0</td>\n",
              "      <td>1</td>\n",
              "      <td>0</td>\n",
              "      <td>1</td>\n",
              "      <td>1</td>\n",
              "      <td>0</td>\n",
              "      <td>0</td>\n",
              "      <td>1</td>\n",
              "      <td>1</td>\n",
              "      <td>1</td>\n",
              "      <td>1</td>\n",
              "      <td>0</td>\n",
              "      <td>1</td>\n",
              "      <td>1</td>\n",
              "    </tr>\n",
              "    <tr>\n",
              "      <th>3</th>\n",
              "      <td>1</td>\n",
              "      <td>1</td>\n",
              "      <td>1</td>\n",
              "      <td>2</td>\n",
              "      <td>0</td>\n",
              "      <td>1</td>\n",
              "      <td>0</td>\n",
              "      <td>1</td>\n",
              "      <td>0</td>\n",
              "      <td>0</td>\n",
              "      <td>1</td>\n",
              "      <td>1</td>\n",
              "      <td>1</td>\n",
              "      <td>0</td>\n",
              "      <td>1</td>\n",
              "      <td>0</td>\n",
              "      <td>0</td>\n",
              "      <td>0</td>\n",
              "    </tr>\n",
              "    <tr>\n",
              "      <th>4</th>\n",
              "      <td>1</td>\n",
              "      <td>3</td>\n",
              "      <td>1</td>\n",
              "      <td>1</td>\n",
              "      <td>1</td>\n",
              "      <td>0</td>\n",
              "      <td>1</td>\n",
              "      <td>1</td>\n",
              "      <td>0</td>\n",
              "      <td>1</td>\n",
              "      <td>1</td>\n",
              "      <td>0</td>\n",
              "      <td>1</td>\n",
              "      <td>0</td>\n",
              "      <td>1</td>\n",
              "      <td>0</td>\n",
              "      <td>0</td>\n",
              "      <td>1</td>\n",
              "    </tr>\n",
              "    <tr>\n",
              "      <th>...</th>\n",
              "      <td>...</td>\n",
              "      <td>...</td>\n",
              "      <td>...</td>\n",
              "      <td>...</td>\n",
              "      <td>...</td>\n",
              "      <td>...</td>\n",
              "      <td>...</td>\n",
              "      <td>...</td>\n",
              "      <td>...</td>\n",
              "      <td>...</td>\n",
              "      <td>...</td>\n",
              "      <td>...</td>\n",
              "      <td>...</td>\n",
              "      <td>...</td>\n",
              "      <td>...</td>\n",
              "      <td>...</td>\n",
              "      <td>...</td>\n",
              "      <td>...</td>\n",
              "    </tr>\n",
              "    <tr>\n",
              "      <th>123</th>\n",
              "      <td>0</td>\n",
              "      <td>3</td>\n",
              "      <td>1</td>\n",
              "      <td>2</td>\n",
              "      <td>1</td>\n",
              "      <td>1</td>\n",
              "      <td>0</td>\n",
              "      <td>1</td>\n",
              "      <td>1</td>\n",
              "      <td>1</td>\n",
              "      <td>1</td>\n",
              "      <td>1</td>\n",
              "      <td>0</td>\n",
              "      <td>1</td>\n",
              "      <td>0</td>\n",
              "      <td>1</td>\n",
              "      <td>1</td>\n",
              "      <td>1</td>\n",
              "    </tr>\n",
              "    <tr>\n",
              "      <th>124</th>\n",
              "      <td>1</td>\n",
              "      <td>1</td>\n",
              "      <td>1</td>\n",
              "      <td>1</td>\n",
              "      <td>1</td>\n",
              "      <td>0</td>\n",
              "      <td>1</td>\n",
              "      <td>0</td>\n",
              "      <td>0</td>\n",
              "      <td>1</td>\n",
              "      <td>0</td>\n",
              "      <td>1</td>\n",
              "      <td>1</td>\n",
              "      <td>0</td>\n",
              "      <td>1</td>\n",
              "      <td>0</td>\n",
              "      <td>1</td>\n",
              "      <td>1</td>\n",
              "    </tr>\n",
              "    <tr>\n",
              "      <th>125</th>\n",
              "      <td>0</td>\n",
              "      <td>0</td>\n",
              "      <td>1</td>\n",
              "      <td>1</td>\n",
              "      <td>1</td>\n",
              "      <td>0</td>\n",
              "      <td>1</td>\n",
              "      <td>0</td>\n",
              "      <td>1</td>\n",
              "      <td>0</td>\n",
              "      <td>1</td>\n",
              "      <td>0</td>\n",
              "      <td>1</td>\n",
              "      <td>0</td>\n",
              "      <td>1</td>\n",
              "      <td>0</td>\n",
              "      <td>1</td>\n",
              "      <td>1</td>\n",
              "    </tr>\n",
              "    <tr>\n",
              "      <th>126</th>\n",
              "      <td>0</td>\n",
              "      <td>3</td>\n",
              "      <td>3</td>\n",
              "      <td>1</td>\n",
              "      <td>1</td>\n",
              "      <td>0</td>\n",
              "      <td>1</td>\n",
              "      <td>0</td>\n",
              "      <td>1</td>\n",
              "      <td>0</td>\n",
              "      <td>1</td>\n",
              "      <td>0</td>\n",
              "      <td>1</td>\n",
              "      <td>0</td>\n",
              "      <td>0</td>\n",
              "      <td>1</td>\n",
              "      <td>1</td>\n",
              "      <td>1</td>\n",
              "    </tr>\n",
              "    <tr>\n",
              "      <th>127</th>\n",
              "      <td>0</td>\n",
              "      <td>0</td>\n",
              "      <td>3</td>\n",
              "      <td>2</td>\n",
              "      <td>1</td>\n",
              "      <td>1</td>\n",
              "      <td>0</td>\n",
              "      <td>0</td>\n",
              "      <td>0</td>\n",
              "      <td>0</td>\n",
              "      <td>0</td>\n",
              "      <td>0</td>\n",
              "      <td>0</td>\n",
              "      <td>0</td>\n",
              "      <td>0</td>\n",
              "      <td>0</td>\n",
              "      <td>0</td>\n",
              "      <td>0</td>\n",
              "    </tr>\n",
              "  </tbody>\n",
              "</table>\n",
              "<p>128 rows × 18 columns</p>\n",
              "</div>"
            ],
            "text/plain": [
              "     gender  age  kidney_t  ...  swelling_s  hypertension_s  classification_s\n",
              "0         0    0         1  ...           1               0                 1\n",
              "1         1    1         0  ...           0               0                 0\n",
              "2         0    2         2  ...           0               1                 1\n",
              "3         1    1         1  ...           0               0                 0\n",
              "4         1    3         1  ...           0               0                 1\n",
              "..      ...  ...       ...  ...         ...             ...               ...\n",
              "123       0    3         1  ...           1               1                 1\n",
              "124       1    1         1  ...           0               1                 1\n",
              "125       0    0         1  ...           0               1                 1\n",
              "126       0    3         3  ...           1               1                 1\n",
              "127       0    0         3  ...           0               0                 0\n",
              "\n",
              "[128 rows x 18 columns]"
            ]
          },
          "metadata": {
            "tags": []
          },
          "execution_count": 40
        }
      ]
    },
    {
      "cell_type": "code",
      "metadata": {
        "colab": {
          "base_uri": "https://localhost:8080/"
        },
        "id": "_sWX6XZ8b06W",
        "outputId": "9ee1baf1-6220-496c-d0a4-3f239e23c0ab"
      },
      "source": [
        "df.info()"
      ],
      "execution_count": null,
      "outputs": [
        {
          "output_type": "stream",
          "text": [
            "<class 'pandas.core.frame.DataFrame'>\n",
            "RangeIndex: 128 entries, 0 to 127\n",
            "Data columns (total 18 columns):\n",
            " #   Column            Non-Null Count  Dtype\n",
            "---  ------            --------------  -----\n",
            " 0   gender            128 non-null    int64\n",
            " 1   age               128 non-null    int64\n",
            " 2   kidney_t          128 non-null    int64\n",
            " 3   pressure_le       128 non-null    int64\n",
            " 4   nausea_s          128 non-null    int64\n",
            " 5   vomit_s           128 non-null    int64\n",
            " 6   appetite_s        128 non-null    int64\n",
            " 7   itching_s         128 non-null    int64\n",
            " 8   hiccups_s         128 non-null    int64\n",
            " 9   taste_s           128 non-null    int64\n",
            " 10  fatigue_s         128 non-null    int64\n",
            " 11  sleep_s           128 non-null    int64\n",
            " 12  urinate_s         128 non-null    int64\n",
            " 13  mental_s          128 non-null    int64\n",
            " 14  muscle_s          128 non-null    int64\n",
            " 15  swelling_s        128 non-null    int64\n",
            " 16  hypertension_s    128 non-null    int64\n",
            " 17  classification_s  128 non-null    int64\n",
            "dtypes: int64(18)\n",
            "memory usage: 18.1 KB\n"
          ],
          "name": "stdout"
        }
      ]
    },
    {
      "cell_type": "code",
      "metadata": {
        "colab": {
          "base_uri": "https://localhost:8080/",
          "height": 321
        },
        "id": "5c7RtyFR_ie7",
        "outputId": "fd8de244-3ab7-45ec-bd06-f423ffef163e"
      },
      "source": [
        "#checking the corralation \n",
        "\n",
        "corr = df.corr()\n",
        "ax = sns.heatmap(\n",
        "    corr, \n",
        "    vmin=-1, vmax=1, center=0,\n",
        "    cmap=sns.diverging_palette(20, 220, n=200),\n",
        "    square=True\n",
        ")\n",
        "ax.set_xticklabels(\n",
        "    ax.get_xticklabels(),\n",
        "    rotation=45,\n",
        "    horizontalalignment='right'\n",
        ");"
      ],
      "execution_count": null,
      "outputs": [
        {
          "output_type": "display_data",
          "data": {
            "image/png": "[encoded data removed]",
            "text/plain": [
              "<Figure size 432x288 with 2 Axes>"
            ]
          },
          "metadata": {
            "tags": [],
            "needs_background": "light"
          }
        }
      ]
    },
    {
      "cell_type": "code",
      "metadata": {
        "id": "bFdAfQRHb06Z"
      },
      "source": [
        "from sklearn.model_selection import train_test_split\n",
        "\n",
        "X = df.drop(columns=['classification_s'])\n",
        "y = df['classification_s']\n",
        "X_train,X_test,y_train,y_test = train_test_split(X,y,test_size=0.4,random_state=42)"
      ],
      "execution_count": null,
      "outputs": []
    },
    {
      "cell_type": "code",
      "metadata": {
        "id": "E3zz69o7b06Z"
      },
      "source": [
        " from sklearn import neighbors #impport libraries\n",
        "\n",
        "from sklearn import metrics\n",
        "\n",
        "k = 3 #define K\n",
        "\n",
        "knn = neighbors.KNeighborsClassifier(3)  #make model\n",
        "knn.fit(X_train,y_train) #train mode\n",
        "y_pred=knn.predict(X_test) #test model\n"
      ],
      "execution_count": null,
      "outputs": []
    },
    {
      "cell_type": "code",
      "metadata": {
        "id": "UP-lxCTpb06a"
      },
      "source": [
        "from sklearn.metrics import accuracy_score \n",
        "from sklearn.metrics import confusion_matrix\n",
        "import matplotlib.pyplot as plt \n",
        "\n",
        "accuracy = accuracy_score(y_test, y_pred) "
      ],
      "execution_count": null,
      "outputs": []
    },
    {
      "cell_type": "code",
      "metadata": {
        "colab": {
          "base_uri": "https://localhost:8080/"
        },
        "id": "nxCOA2e0b06b",
        "outputId": "5f6919dc-19e6-4996-f308-4f1d0de0d5e7"
      },
      "source": [
        "accuracy"
      ],
      "execution_count": null,
      "outputs": [
        {
          "output_type": "execute_result",
          "data": {
            "text/plain": [
              "0.8076923076923077"
            ]
          },
          "metadata": {
            "tags": []
          },
          "execution_count": 46
        }
      ]
    },
    {
      "cell_type": "markdown",
      "metadata": {
        "id": "jnW9MBZ6b06b"
      },
      "source": [
        "### Data Modeling"
      ]
    },
    {
      "cell_type": "code",
      "metadata": {
        "id": "wLiGD5q8b06b"
      },
      "source": [
        "from sklearn.svm import SVC\n",
        "from sklearn.ensemble import RandomForestClassifier\n",
        "from sklearn.neighbors import KNeighborsClassifier\n",
        "from sklearn.metrics import accuracy_score\n",
        "from sklearn.neural_network import MLPClassifier\n",
        "from sklearn.model_selection import cross_validate\n",
        "from sklearn.metrics import confusion_matrix, accuracy_score, precision_score, recall_score, f1_score\n",
        "from sklearn.naive_bayes import GaussianNB\n",
        "from sklearn.linear_model import LogisticRegression\n",
        "from sklearn import preprocessing\n",
        "from sklearn import model_selection\n",
        "from sklearn.metrics import confusion_matrix \n",
        "from sklearn.metrics import accuracy_score  \n",
        "from sklearn.metrics import classification_report "
      ],
      "execution_count": null,
      "outputs": []
    },
    {
      "cell_type": "code",
      "metadata": {
        "id": "XF2v6Yc_b06c"
      },
      "source": [
        "def calc_metrics(model_object, X_test, y_test,test_start_timer, test_stop_timer,training_start_timer, training_stop_timer):\n",
        "  \n",
        "  y_pred = model_object.predict(X_test)\n",
        "  \n",
        "  report_test_accuracy = accuracy_score(y_test, y_pred)\n",
        "  report_conf_matrix = confusion_matrix(y_test, y_pred)\n",
        "  report_precision_rate = precision_score(y_test, y_pred)\n",
        "  report_recall_rate = recall_score(y_test, y_pred)\n",
        "  report_f1 = f1_score(y_test, y_pred)   \n",
        "  \n",
        "  performance_metrics = {'test_accuracy': report_test_accuracy,\\\n",
        "                         'confusion_matrix': report_conf_matrix,\\\n",
        "                         'precision': report_precision_rate,\\\n",
        "                         'recall': report_recall_rate,\\\n",
        "                         'f1': report_f1,\\\n",
        "                         'testing_time':test_stop_timer - test_start_timer,\\\n",
        "                         'training_time': training_stop_timer - training_start_timer,\\\n",
        "                         'total_time':test_stop_timer-training_start_timer                       \n",
        "                        }\n",
        "  return performance_metrics"
      ],
      "execution_count": null,
      "outputs": []
    },
    {
      "cell_type": "code",
      "metadata": {
        "colab": {
          "base_uri": "https://localhost:8080/"
        },
        "id": "VWvyy_Orb06c",
        "outputId": "83bb8d2a-d0d0-4016-d6e0-a6a4d092303a"
      },
      "source": [
        "#initializing the models\n",
        "import timeit\n",
        "\n",
        "\n",
        "MLP=MLPClassifier(solver='lbfgs', alpha=1e-5,\n",
        "                     hidden_layer_sizes=(5, 2), random_state=1)\n",
        "svm_model=SVC()\n",
        "knn = neighbors.KNeighborsClassifier(3) \n",
        "lr = LogisticRegression()\n",
        "random_forest_model = RandomForestClassifier(n_estimators=100, max_depth=20,random_state=7) \n",
        "\n",
        "#model array \n",
        "models = [svm_model,MLP,knn,lr,random_forest_model]\n",
        "\n",
        "#emphty array to store clasiifier score\n",
        "classifier_scores=[]\n",
        "\n",
        "#for cross validation \n",
        "kfold = model_selection.KFold(n_splits=7, random_state=100)\n",
        "\n",
        "\n",
        "for i in models:\n",
        "    w = timeit.default_timer() \n",
        "    i.fit(X_train, y_train) #train models in models array  (one by one)\n",
        "    x = timeit.default_timer()\n",
        "    predict=i.predict(X_test) # test the models in the models array (one by one)\n",
        "    y=timeit.default_timer() #test_stop_timer\n",
        "#     cv_score = model_selection.cross_val_score(model,train_x, train_y, cv=kfold)\n",
        "    classifier_scores.append(calc_metrics(i, X_test, y_test,x,y,w,x)) #classifier scores as a data array\n",
        "    \n",
        "\n",
        "\n",
        "#converting classifier score array to a dataframe    \n",
        "\n",
        "df_model_performance = pd.DataFrame(classifier_scores, \\\n",
        "                                    index=['support Vector Machine', 'MultiLinerar Perceptron', \\\n",
        "                                           'KNN', 'Logistic regression',  \\\n",
        "                                           'RF'\\\n",
        "                                          ]\\\n",
        "                                   )\n"
      ],
      "execution_count": null,
      "outputs": [
        {
          "output_type": "stream",
          "text": [
            "/usr/local/lib/python3.7/dist-packages/sklearn/model_selection/_split.py:296: FutureWarning: Setting a random_state has no effect since shuffle is False. This will raise an error in 0.24. You should leave random_state to its default (None), or set shuffle=True.\n",
            "  FutureWarning\n"
          ],
          "name": "stderr"
        }
      ]
    },
    {
      "cell_type": "code",
      "metadata": {
        "colab": {
          "base_uri": "https://localhost:8080/",
          "height": 204
        },
        "id": "Zne_OLl1b06d",
        "outputId": "e0816702-0c6a-4564-9424-96ff4a607ab4"
      },
      "source": [
        "df_model_performance"
      ],
      "execution_count": null,
      "outputs": [
        {
          "output_type": "execute_result",
          "data": {
            "text/html": [
              "<div>\n",
              "<style scoped>\n",
              "    .dataframe tbody tr th:only-of-type {\n",
              "        vertical-align: middle;\n",
              "    }\n",
              "\n",
              "    .dataframe tbody tr th {\n",
              "        vertical-align: top;\n",
              "    }\n",
              "\n",
              "    .dataframe thead th {\n",
              "        text-align: right;\n",
              "    }\n",
              "</style>\n",
              "<table border=\"1\" class=\"dataframe\">\n",
              "  <thead>\n",
              "    <tr style=\"text-align: right;\">\n",
              "      <th></th>\n",
              "      <th>test_accuracy</th>\n",
              "      <th>confusion_matrix</th>\n",
              "      <th>precision</th>\n",
              "      <th>recall</th>\n",
              "      <th>f1</th>\n",
              "      <th>testing_time</th>\n",
              "      <th>training_time</th>\n",
              "      <th>total_time</th>\n",
              "    </tr>\n",
              "  </thead>\n",
              "  <tbody>\n",
              "    <tr>\n",
              "      <th>support Vector Machine</th>\n",
              "      <td>0.865385</td>\n",
              "      <td>[[8, 6], [1, 37]]</td>\n",
              "      <td>0.860465</td>\n",
              "      <td>0.973684</td>\n",
              "      <td>0.913580</td>\n",
              "      <td>0.000859</td>\n",
              "      <td>0.001983</td>\n",
              "      <td>0.002842</td>\n",
              "    </tr>\n",
              "    <tr>\n",
              "      <th>MultiLinerar Perceptron</th>\n",
              "      <td>0.884615</td>\n",
              "      <td>[[10, 4], [2, 36]]</td>\n",
              "      <td>0.900000</td>\n",
              "      <td>0.947368</td>\n",
              "      <td>0.923077</td>\n",
              "      <td>0.001069</td>\n",
              "      <td>0.025936</td>\n",
              "      <td>0.027005</td>\n",
              "    </tr>\n",
              "    <tr>\n",
              "      <th>KNN</th>\n",
              "      <td>0.807692</td>\n",
              "      <td>[[7, 7], [3, 35]]</td>\n",
              "      <td>0.833333</td>\n",
              "      <td>0.921053</td>\n",
              "      <td>0.875000</td>\n",
              "      <td>0.003334</td>\n",
              "      <td>0.000980</td>\n",
              "      <td>0.004314</td>\n",
              "    </tr>\n",
              "    <tr>\n",
              "      <th>Logistic regression</th>\n",
              "      <td>0.923077</td>\n",
              "      <td>[[10, 4], [0, 38]]</td>\n",
              "      <td>0.904762</td>\n",
              "      <td>1.000000</td>\n",
              "      <td>0.950000</td>\n",
              "      <td>0.000737</td>\n",
              "      <td>0.006684</td>\n",
              "      <td>0.007421</td>\n",
              "    </tr>\n",
              "    <tr>\n",
              "      <th>RF</th>\n",
              "      <td>0.903846</td>\n",
              "      <td>[[10, 4], [1, 37]]</td>\n",
              "      <td>0.902439</td>\n",
              "      <td>0.973684</td>\n",
              "      <td>0.936709</td>\n",
              "      <td>0.012214</td>\n",
              "      <td>0.154152</td>\n",
              "      <td>0.166365</td>\n",
              "    </tr>\n",
              "  </tbody>\n",
              "</table>\n",
              "</div>"
            ],
            "text/plain": [
              "                         test_accuracy  ... total_time\n",
              "support Vector Machine        0.865385  ...   0.002842\n",
              "MultiLinerar Perceptron       0.884615  ...   0.027005\n",
              "KNN                           0.807692  ...   0.004314\n",
              "Logistic regression           0.923077  ...   0.007421\n",
              "RF                            0.903846  ...   0.166365\n",
              "\n",
              "[5 rows x 8 columns]"
            ]
          },
          "metadata": {
            "tags": []
          },
          "execution_count": 52
        }
      ]
    },
    {
      "cell_type": "code",
      "metadata": {
        "id": "xfZ6jLcjHUQZ"
      },
      "source": [
        "from google.colab import files\n",
        "import pickle\n",
        "\n",
        "Pkl_Filename = \"model_rf.pkl\"  \n",
        "\n",
        "with open(Pkl_Filename, 'wb') as file:  \n",
        "    pickle.dump(models[3], file)"
      ],
      "execution_count": null,
      "outputs": []
    },
    {
      "cell_type": "code",
      "metadata": {
        "id": "bsD0ft85dtIB",
        "colab": {
          "base_uri": "https://localhost:8080/"
        },
        "outputId": "d1481f99-1bd6-4453-cb3d-cc36ef6ffb0f"
      },
      "source": [
        "!pip install colabcode"
      ],
      "execution_count": null,
      "outputs": [
        {
          "output_type": "stream",
          "text": [
            "Requirement already satisfied: colabcode in /usr/local/lib/python3.7/dist-packages (0.3.0)\n",
            "Requirement already satisfied: nest-asyncio==1.4.3 in /usr/local/lib/python3.7/dist-packages (from colabcode) (1.4.3)\n",
            "Requirement already satisfied: jupyterlab==3.0.7 in /usr/local/lib/python3.7/dist-packages (from colabcode) (3.0.7)\n",
            "Requirement already satisfied: pyngrok>=5.0.0 in /usr/local/lib/python3.7/dist-packages (from colabcode) (5.0.5)\n",
            "Requirement already satisfied: uvicorn==0.13.1 in /usr/local/lib/python3.7/dist-packages (from colabcode) (0.13.1)\n",
            "Requirement already satisfied: jinja2>=2.10 in /usr/local/lib/python3.7/dist-packages (from jupyterlab==3.0.7->colabcode) (2.11.3)\n",
            "Requirement already satisfied: jupyterlab-server~=2.0 in /usr/local/lib/python3.7/dist-packages (from jupyterlab==3.0.7->colabcode) (2.6.0)\n",
            "Requirement already satisfied: jupyter-core in /usr/local/lib/python3.7/dist-packages (from jupyterlab==3.0.7->colabcode) (4.7.1)\n",
            "Requirement already satisfied: packaging in /usr/local/lib/python3.7/dist-packages (from jupyterlab==3.0.7->colabcode) (20.9)\n",
            "Requirement already satisfied: nbclassic~=0.2 in /usr/local/lib/python3.7/dist-packages (from jupyterlab==3.0.7->colabcode) (0.3.1)\n",
            "Requirement already satisfied: jupyter-server~=1.2 in /usr/local/lib/python3.7/dist-packages (from jupyterlab==3.0.7->colabcode) (1.9.0)\n",
            "Requirement already satisfied: ipython in /usr/local/lib/python3.7/dist-packages (from jupyterlab==3.0.7->colabcode) (5.5.0)\n",
            "Requirement already satisfied: tornado>=6.1.0 in /usr/local/lib/python3.7/dist-packages (from jupyterlab==3.0.7->colabcode) (6.1)\n",
            "Requirement already satisfied: PyYAML in /usr/local/lib/python3.7/dist-packages (from pyngrok>=5.0.0->colabcode) (3.13)\n",
            "Requirement already satisfied: h11>=0.8 in /usr/local/lib/python3.7/dist-packages (from uvicorn==0.13.1->colabcode) (0.12.0)\n",
            "Requirement already satisfied: click==7.* in /usr/local/lib/python3.7/dist-packages (from uvicorn==0.13.1->colabcode) (7.1.2)\n",
            "Requirement already satisfied: typing-extensions; python_version < \"3.8\" in /usr/local/lib/python3.7/dist-packages (from uvicorn==0.13.1->colabcode) (3.7.4.3)\n",
            "Requirement already satisfied: MarkupSafe>=0.23 in /usr/local/lib/python3.7/dist-packages (from jinja2>=2.10->jupyterlab==3.0.7->colabcode) (2.0.1)\n",
            "Requirement already satisfied: requests in /usr/local/lib/python3.7/dist-packages (from jupyterlab-server~=2.0->jupyterlab==3.0.7->colabcode) (2.23.0)\n",
            "Requirement already satisfied: json5 in /usr/local/lib/python3.7/dist-packages (from jupyterlab-server~=2.0->jupyterlab==3.0.7->colabcode) (0.9.6)\n",
            "Requirement already satisfied: jsonschema>=3.0.1 in /usr/local/lib/python3.7/dist-packages (from jupyterlab-server~=2.0->jupyterlab==3.0.7->colabcode) (3.2.0)\n",
            "Requirement already satisfied: babel in /usr/local/lib/python3.7/dist-packages (from jupyterlab-server~=2.0->jupyterlab==3.0.7->colabcode) (2.9.1)\n",
            "Requirement already satisfied: traitlets in /usr/local/lib/python3.7/dist-packages (from jupyter-core->jupyterlab==3.0.7->colabcode) (5.0.5)\n",
            "Requirement already satisfied: pyparsing>=2.0.2 in /usr/local/lib/python3.7/dist-packages (from packaging->jupyterlab==3.0.7->colabcode) (2.4.7)\n",
            "Requirement already satisfied: notebook<7 in /usr/local/lib/python3.7/dist-packages (from nbclassic~=0.2->jupyterlab==3.0.7->colabcode) (5.3.1)\n",
            "Requirement already satisfied: prometheus-client in /usr/local/lib/python3.7/dist-packages (from jupyter-server~=1.2->jupyterlab==3.0.7->colabcode) (0.11.0)\n",
            "Requirement already satisfied: nbconvert in /usr/local/lib/python3.7/dist-packages (from jupyter-server~=1.2->jupyterlab==3.0.7->colabcode) (5.6.1)\n",
            "Requirement already satisfied: websocket-client in /usr/local/lib/python3.7/dist-packages (from jupyter-server~=1.2->jupyterlab==3.0.7->colabcode) (1.1.0)\n",
            "Requirement already satisfied: anyio<4,>=3.1.0 in /usr/local/lib/python3.7/dist-packages (from jupyter-server~=1.2->jupyterlab==3.0.7->colabcode) (3.2.1)\n",
            "Requirement already satisfied: jupyter-client>=6.1.1 in /usr/local/lib/python3.7/dist-packages (from jupyter-server~=1.2->jupyterlab==3.0.7->colabcode) (6.1.12)\n",
            "Requirement already satisfied: terminado>=0.8.3 in /usr/local/lib/python3.7/dist-packages (from jupyter-server~=1.2->jupyterlab==3.0.7->colabcode) (0.10.1)\n",
            "Requirement already satisfied: argon2-cffi in /usr/local/lib/python3.7/dist-packages (from jupyter-server~=1.2->jupyterlab==3.0.7->colabcode) (20.1.0)\n",
            "Requirement already satisfied: ipython-genutils in /usr/local/lib/python3.7/dist-packages (from jupyter-server~=1.2->jupyterlab==3.0.7->colabcode) (0.2.0)\n",
            "Requirement already satisfied: pyzmq>=17 in /usr/local/lib/python3.7/dist-packages (from jupyter-server~=1.2->jupyterlab==3.0.7->colabcode) (22.1.0)\n",
            "Requirement already satisfied: nbformat in /usr/local/lib/python3.7/dist-packages (from jupyter-server~=1.2->jupyterlab==3.0.7->colabcode) (5.1.3)\n",
            "Requirement already satisfied: Send2Trash in /usr/local/lib/python3.7/dist-packages (from jupyter-server~=1.2->jupyterlab==3.0.7->colabcode) (1.5.0)\n",
            "Requirement already satisfied: requests-unixsocket in /usr/local/lib/python3.7/dist-packages (from jupyter-server~=1.2->jupyterlab==3.0.7->colabcode) (0.2.0)\n",
            "Requirement already satisfied: pickleshare in /usr/local/lib/python3.7/dist-packages (from ipython->jupyterlab==3.0.7->colabcode) (0.7.5)\n",
            "Requirement already satisfied: setuptools>=18.5 in /usr/local/lib/python3.7/dist-packages (from ipython->jupyterlab==3.0.7->colabcode) (57.0.0)\n",
            "Requirement already satisfied: prompt-toolkit<2.0.0,>=1.0.4 in /usr/local/lib/python3.7/dist-packages (from ipython->jupyterlab==3.0.7->colabcode) (1.0.18)\n",
            "Requirement already satisfied: pexpect; sys_platform != \"win32\" in /usr/local/lib/python3.7/dist-packages (from ipython->jupyterlab==3.0.7->colabcode) (4.8.0)\n",
            "Requirement already satisfied: decorator in /usr/local/lib/python3.7/dist-packages (from ipython->jupyterlab==3.0.7->colabcode) (4.4.2)\n",
            "Requirement already satisfied: simplegeneric>0.8 in /usr/local/lib/python3.7/dist-packages (from ipython->jupyterlab==3.0.7->colabcode) (0.8.1)\n",
            "Requirement already satisfied: pygments in /usr/local/lib/python3.7/dist-packages (from ipython->jupyterlab==3.0.7->colabcode) (2.6.1)\n",
            "Requirement already satisfied: idna<3,>=2.5 in /usr/local/lib/python3.7/dist-packages (from requests->jupyterlab-server~=2.0->jupyterlab==3.0.7->colabcode) (2.10)\n",
            "Requirement already satisfied: urllib3!=1.25.0,!=1.25.1,<1.26,>=1.21.1 in /usr/local/lib/python3.7/dist-packages (from requests->jupyterlab-server~=2.0->jupyterlab==3.0.7->colabcode) (1.24.3)\n",
            "Requirement already satisfied: chardet<4,>=3.0.2 in /usr/local/lib/python3.7/dist-packages (from requests->jupyterlab-server~=2.0->jupyterlab==3.0.7->colabcode) (3.0.4)\n",
            "Requirement already satisfied: certifi>=2017.4.17 in /usr/local/lib/python3.7/dist-packages (from requests->jupyterlab-server~=2.0->jupyterlab==3.0.7->colabcode) (2021.5.30)\n",
            "Requirement already satisfied: importlib-metadata; python_version < \"3.8\" in /usr/local/lib/python3.7/dist-packages (from jsonschema>=3.0.1->jupyterlab-server~=2.0->jupyterlab==3.0.7->colabcode) (4.5.0)\n",
            "Requirement already satisfied: attrs>=17.4.0 in /usr/local/lib/python3.7/dist-packages (from jsonschema>=3.0.1->jupyterlab-server~=2.0->jupyterlab==3.0.7->colabcode) (21.2.0)\n",
            "Requirement already satisfied: pyrsistent>=0.14.0 in /usr/local/lib/python3.7/dist-packages (from jsonschema>=3.0.1->jupyterlab-server~=2.0->jupyterlab==3.0.7->colabcode) (0.17.3)\n",
            "Requirement already satisfied: six>=1.11.0 in /usr/local/lib/python3.7/dist-packages (from jsonschema>=3.0.1->jupyterlab-server~=2.0->jupyterlab==3.0.7->colabcode) (1.15.0)\n",
            "Requirement already satisfied: pytz>=2015.7 in /usr/local/lib/python3.7/dist-packages (from babel->jupyterlab-server~=2.0->jupyterlab==3.0.7->colabcode) (2018.9)\n",
            "Requirement already satisfied: ipykernel in /usr/local/lib/python3.7/dist-packages (from notebook<7->nbclassic~=0.2->jupyterlab==3.0.7->colabcode) (4.10.1)\n",
            "Requirement already satisfied: testpath in /usr/local/lib/python3.7/dist-packages (from nbconvert->jupyter-server~=1.2->jupyterlab==3.0.7->colabcode) (0.5.0)\n",
            "Requirement already satisfied: defusedxml in /usr/local/lib/python3.7/dist-packages (from nbconvert->jupyter-server~=1.2->jupyterlab==3.0.7->colabcode) (0.7.1)\n",
            "Requirement already satisfied: bleach in /usr/local/lib/python3.7/dist-packages (from nbconvert->jupyter-server~=1.2->jupyterlab==3.0.7->colabcode) (3.3.0)\n",
            "Requirement already satisfied: mistune<2,>=0.8.1 in /usr/local/lib/python3.7/dist-packages (from nbconvert->jupyter-server~=1.2->jupyterlab==3.0.7->colabcode) (0.8.4)\n",
            "Requirement already satisfied: entrypoints>=0.2.2 in /usr/local/lib/python3.7/dist-packages (from nbconvert->jupyter-server~=1.2->jupyterlab==3.0.7->colabcode) (0.3)\n",
            "Requirement already satisfied: pandocfilters>=1.4.1 in /usr/local/lib/python3.7/dist-packages (from nbconvert->jupyter-server~=1.2->jupyterlab==3.0.7->colabcode) (1.4.3)\n",
            "Requirement already satisfied: sniffio>=1.1 in /usr/local/lib/python3.7/dist-packages (from anyio<4,>=3.1.0->jupyter-server~=1.2->jupyterlab==3.0.7->colabcode) (1.2.0)\n",
            "Requirement already satisfied: python-dateutil>=2.1 in /usr/local/lib/python3.7/dist-packages (from jupyter-client>=6.1.1->jupyter-server~=1.2->jupyterlab==3.0.7->colabcode) (2.8.1)\n",
            "Requirement already satisfied: ptyprocess; os_name != \"nt\" in /usr/local/lib/python3.7/dist-packages (from terminado>=0.8.3->jupyter-server~=1.2->jupyterlab==3.0.7->colabcode) (0.7.0)\n",
            "Requirement already satisfied: cffi>=1.0.0 in /usr/local/lib/python3.7/dist-packages (from argon2-cffi->jupyter-server~=1.2->jupyterlab==3.0.7->colabcode) (1.14.5)\n",
            "Requirement already satisfied: wcwidth in /usr/local/lib/python3.7/dist-packages (from prompt-toolkit<2.0.0,>=1.0.4->ipython->jupyterlab==3.0.7->colabcode) (0.2.5)\n",
            "Requirement already satisfied: zipp>=0.5 in /usr/local/lib/python3.7/dist-packages (from importlib-metadata; python_version < \"3.8\"->jsonschema>=3.0.1->jupyterlab-server~=2.0->jupyterlab==3.0.7->colabcode) (3.4.1)\n",
            "Requirement already satisfied: webencodings in /usr/local/lib/python3.7/dist-packages (from bleach->nbconvert->jupyter-server~=1.2->jupyterlab==3.0.7->colabcode) (0.5.1)\n",
            "Requirement already satisfied: pycparser in /usr/local/lib/python3.7/dist-packages (from cffi>=1.0.0->argon2-cffi->jupyter-server~=1.2->jupyterlab==3.0.7->colabcode) (2.20)\n"
          ],
          "name": "stdout"
        }
      ]
    },
    {
      "cell_type": "code",
      "metadata": {
        "id": "WH0MjKPZCB1o",
        "colab": {
          "base_uri": "https://localhost:8080/"
        },
        "outputId": "0e661265-3b13-4f9f-e48e-1fff43440e35"
      },
      "source": [
        "!pip install fastapi"
      ],
      "execution_count": null,
      "outputs": [
        {
          "output_type": "stream",
          "text": [
            "Requirement already satisfied: fastapi in /usr/local/lib/python3.7/dist-packages (0.65.2)\n",
            "Requirement already satisfied: pydantic!=1.7,!=1.7.1,!=1.7.2,!=1.7.3,!=1.8,!=1.8.1,<2.0.0,>=1.6.2 in /usr/local/lib/python3.7/dist-packages (from fastapi) (1.8.2)\n",
            "Requirement already satisfied: starlette==0.14.2 in /usr/local/lib/python3.7/dist-packages (from fastapi) (0.14.2)\n",
            "Requirement already satisfied: typing-extensions>=3.7.4.3 in /usr/local/lib/python3.7/dist-packages (from pydantic!=1.7,!=1.7.1,!=1.7.2,!=1.7.3,!=1.8,!=1.8.1,<2.0.0,>=1.6.2->fastapi) (3.7.4.3)\n"
          ],
          "name": "stdout"
        }
      ]
    },
    {
      "cell_type": "code",
      "metadata": {
        "id": "dDBi8zc7JhrM"
      },
      "source": [
        "from pydantic import BaseModel\n",
        "\n",
        "class Cdk(BaseModel):\n",
        "    gender:int\n",
        "    age:int\n",
        "    kidney_t:int\n",
        "    pressure_le:int\n",
        "    nausea_s:int\n",
        "    vomit_s:int\n",
        "    appetite_s:int\n",
        "    itching_s:int\n",
        "    hiccups_s:int\n",
        "    taste_s:int\n",
        "    fatigue_s:int\n",
        "    sleep_s:int\n",
        "    urinate_s:int\n",
        "    mental_s:int\n",
        "    muscle_s:int\n",
        "    swelling_s:int\n",
        "    hypertension_s:int\n",
        "    class Config:\n",
        "        schema_extra = {\n",
        "            \"example\": {\n",
        "               \"gender\":1,\n",
        "               \"age\":1,\n",
        "               \"kidney_t\":3,\n",
        "               \"pressure_le\":2,\n",
        "               \"nausea_s\":1,\n",
        "               \"vomit_s\":1,\n",
        "               \"appetite_s\":0,\n",
        "               \"itching_s\":0,\n",
        "               \"hiccups_s\":1,\n",
        "               \"taste_s\":1,\n",
        "               \"fatigue_s\":0,\n",
        "               \"sleep_s\":1,\n",
        "               \"urinate_s\":1,\n",
        "               \"mental_s\":1,\n",
        "               \"muscle_s\":1,\n",
        "               \"swelling_s\":1,\n",
        "               \"hypertension_s\":1\n",
        "            }\n",
        "        }"
      ],
      "execution_count": null,
      "outputs": []
    },
    {
      "cell_type": "code",
      "metadata": {
        "id": "FIYADhGQEhIJ"
      },
      "source": [
        "from fastapi import FastAPI\n",
        "import pickle\n",
        "\n",
        "app = FastAPI()\n",
        "\n",
        "@app.on_event(\"startup\")\n",
        "def load_model():\n",
        "    global model\n",
        "    model = pickle.load(open(\"model_rf.pkl\", \"rb\"))\n",
        "\n",
        "@app.get('/')\n",
        "def index():\n",
        "    return {'message': 'This is the homepage of the API '}\n",
        "\n",
        "\n",
        "@app.post('/predict')\n",
        "def get_cdk_status(data: Cdk):\n",
        "    recieved = data.dict()\n",
        "    gender=recieved['gender']\n",
        "    age=recieved['age']\n",
        "    kidney_t=recieved['kidney_t']\n",
        "    pressure_le=recieved['pressure_le']\n",
        "    nausea_s=recieved['nausea_s']\n",
        "    vomit_s=recieved['vomit_s']\n",
        "    appetite_s=recieved['appetite_s']\n",
        "    itching_s=recieved['itching_s']\n",
        "    hiccups_s=recieved['hiccups_s']\n",
        "    taste_s=recieved['taste_s']\n",
        "    fatigue_s=recieved['fatigue_s']\n",
        "    sleep_s=recieved['sleep_s']\n",
        "    urinate_s=recieved['urinate_s']\n",
        "    mental_s=recieved['mental_s']\n",
        "    muscle_s=recieved['muscle_s']\n",
        "    swelling_s=recieved['swelling_s']\n",
        "    hypertension_s=recieved['hypertension_s']\n",
        "\n",
        "    pred_name = model.predict([[gender,\n",
        "    age,\n",
        "    kidney_t,\n",
        "    pressure_le,\n",
        "    nausea_s,\n",
        "    vomit_s,\n",
        "    appetite_s,\n",
        "    itching_s,\n",
        "    hiccups_s,\n",
        "    taste_s,\n",
        "    fatigue_s,\n",
        "    sleep_s,\n",
        "    urinate_s,\n",
        "    mental_s,\n",
        "    muscle_s,\n",
        "    swelling_s,\n",
        "    hypertension_s]]).tolist()[0]\n",
        "    return {'prediction': pred_name}"
      ],
      "execution_count": null,
      "outputs": []
    },
    {
      "cell_type": "code",
      "metadata": {
        "id": "CaMyhg1r9suW"
      },
      "source": [
        "from colabcode import ColabCode\n",
        "server = ColabCode(port=10000, code=False)"
      ],
      "execution_count": null,
      "outputs": []
    },
    {
      "cell_type": "code",
      "metadata": {
        "id": "LiPoYzNrIVTX",
        "colab": {
          "base_uri": "https://localhost:8080/"
        },
        "outputId": "dc2e2bd1-45d9-4350-f0e7-95a791861818"
      },
      "source": [
        "server.run_app(app=app)"
      ],
      "execution_count": null,
      "outputs": [
        {
          "output_type": "stream",
          "text": [
            "INFO:     Started server process [284]\n",
            "INFO:     Waiting for application startup.\n",
            "INFO:     Application startup complete.\n",
            "INFO:     Uvicorn running on http://127.0.0.1:10000 (Press CTRL+C to quit)\n"
          ],
          "name": "stderr"
        },
        {
          "output_type": "stream",
          "text": [
            "Public URL: NgrokTunnel: \"https://02e021df8ac4.ngrok.io\" -> \"http://localhost:10000\"\n",
            "INFO:     112.134.244.67:0 - \"GET / HTTP/1.1\" 200 OK\n",
            "INFO:     112.134.244.67:0 - \"GET /favicon.ico HTTP/1.1\" 404 Not Found\n",
            "INFO:     112.134.244.67:0 - \"GET /docs HTTP/1.1\" 200 OK\n",
            "INFO:     112.134.244.67:0 - \"GET /openapi.json HTTP/1.1\" 200 OK\n",
            "INFO:     112.134.244.67:0 - \"POST /predict HTTP/1.1\" 200 OK\n",
            "INFO:     112.134.244.67:0 - \"POST /predict HTTP/1.1\" 200 OK\n",
            "INFO:     112.134.244.67:0 - \"POST /predict HTTP/1.1\" 200 OK\n",
            "INFO:     112.134.244.67:0 - \"POST /predict HTTP/1.1\" 200 OK\n",
            "INFO:     112.134.244.67:0 - \"POST /predict HTTP/1.1\" 200 OK\n",
            "INFO:     112.134.244.67:0 - \"POST /predict HTTP/1.1\" 200 OK\n"
          ],
          "name": "stdout"
        }
      ]
    },
    {
      "cell_type": "code",
      "metadata": {
        "id": "D5VLPMLCIXq4",
        "colab": {
          "base_uri": "https://localhost:8080/"
        },
        "outputId": "68edd33c-8712-4744-be23-8333a285ed54"
      },
      "source": [
        ""
      ],
      "execution_count": null,
      "outputs": [
        {
          "output_type": "stream",
          "text": [
            "Public URL: NgrokTunnel: \"https://a337a885fb16.ngrok.io\" -> \"http://localhost:10000\"\n"
          ],
          "name": "stdout"
        }
      ]
    }
  ]
}
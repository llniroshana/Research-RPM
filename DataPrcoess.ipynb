{
  "nbformat": 4,
  "nbformat_minor": 0,
  "metadata": {
    "kernelspec": {
      "display_name": "Python 3",
      "language": "python",
      "name": "python3"
    },
    "language_info": {
      "codemirror_mode": {
        "name": "ipython",
        "version": 3
      },
      "file_extension": ".py",
      "mimetype": "text/x-python",
      "name": "python",
      "nbconvert_exporter": "python",
      "pygments_lexer": "ipython3",
      "version": "3.7.4"
    },
    "colab": {
      "name": "DataPrcoess.ipynb",
      "provenance": [],
      "include_colab_link": true
    }
  },
  "cells": [
    {
      "cell_type": "markdown",
      "metadata": {
        "id": "view-in-github",
        "colab_type": "text"
      },
      "source": [
        "<a href=\"https://colab.research.google.com/github/llniroshana/Research-RPM/blob/main/DataPrcoess.ipynb\" target=\"_parent\"><img src=\"https://colab.research.google.com/assets/colab-badge.svg\" alt=\"Open In Colab\"/></a>"
      ]
    },
    {
      "cell_type": "code",
      "metadata": {
        "colab": {
          "resources": {
            "http://localhost:8080/nbextensions/google.colab/files.js": {
              "data": "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",
              "ok": true,
              "headers": [
                [
                  "content-type",
                  "application/javascript"
                ]
              ],
              "status": 200,
              "status_text": ""
            }
          },
          "base_uri": "https://localhost:8080/",
          "height": 72
        },
        "id": "G-sWjTV-Q_JV",
        "outputId": "1c350542-3b4a-43ec-dfe8-2257c4d190fa"
      },
      "source": [
        "import io\n",
        "import pandas as pd\n",
        "import numpy as np\n",
        "from sklearn.linear_model import LogisticRegression\n",
        "from sklearn import preprocessing\n",
        "from sklearn import model_selection\n",
        "from sklearn.metrics import confusion_matrix \n",
        "from sklearn.metrics import accuracy_score  \n",
        "from sklearn.metrics import classification_report \n",
        "\n",
        "from google.colab import files\n",
        "uploaded = files.upload()\n",
        "\n",
        "data = pd.read_csv(io.BytesIO(uploaded['cdk_data.csv']))\n"
      ],
      "execution_count": 4,
      "outputs": [
        {
          "output_type": "display_data",
          "data": {
            "text/html": [
              "\n",
              "     <input type=\"file\" id=\"files-79baffd8-1d38-4c0e-91ce-343e89c63b57\" name=\"files[]\" multiple disabled\n",
              "        style=\"border:none\" />\n",
              "     <output id=\"result-79baffd8-1d38-4c0e-91ce-343e89c63b57\">\n",
              "      Upload widget is only available when the cell has been executed in the\n",
              "      current browser session. Please rerun this cell to enable.\n",
              "      </output>\n",
              "      <script src=\"/nbextensions/google.colab/files.js\"></script> "
            ],
            "text/plain": [
              "<IPython.core.display.HTML object>"
            ]
          },
          "metadata": {
            "tags": []
          }
        },
        {
          "output_type": "stream",
          "text": [
            "Saving cdk_data.csv to cdk_data.csv\n"
          ],
          "name": "stdout"
        }
      ]
    },
    {
      "cell_type": "code",
      "metadata": {
        "colab": {
          "base_uri": "https://localhost:8080/",
          "height": 476
        },
        "id": "KfS_svBQQ_JZ",
        "outputId": "46e97673-492c-4f43-a97e-c9fc1806d641"
      },
      "source": [
        "data.head(5)"
      ],
      "execution_count": 5,
      "outputs": [
        {
          "output_type": "execute_result",
          "data": {
            "text/html": [
              "<div>\n",
              "<style scoped>\n",
              "    .dataframe tbody tr th:only-of-type {\n",
              "        vertical-align: middle;\n",
              "    }\n",
              "\n",
              "    .dataframe tbody tr th {\n",
              "        vertical-align: top;\n",
              "    }\n",
              "\n",
              "    .dataframe thead th {\n",
              "        text-align: right;\n",
              "    }\n",
              "</style>\n",
              "<table border=\"1\" class=\"dataframe\">\n",
              "  <thead>\n",
              "    <tr style=\"text-align: right;\">\n",
              "      <th></th>\n",
              "      <th>Timestamp</th>\n",
              "      <th>What is your gender?</th>\n",
              "      <th>What is your age group?</th>\n",
              "      <th>How long you suffer from kidney disease?</th>\n",
              "      <th>Select your blood pressure level</th>\n",
              "      <th>Do you have frequent nausea?</th>\n",
              "      <th>Do you have frequent vomit?</th>\n",
              "      <th>Do you have a loss of appetite?</th>\n",
              "      <th>Is there a persistent itching in your skin?</th>\n",
              "      <th>Do you have frequent hiccups?</th>\n",
              "      <th>Is there metallic taste in your mouth?</th>\n",
              "      <th>Have you feel fatigue and weakness?</th>\n",
              "      <th>Do you have difficulties of sleeping?</th>\n",
              "      <th>Are there any changes in how much you urinate?</th>\n",
              "      <th>Have you feel decreased mental sharpness?</th>\n",
              "      <th>Do you have frequent muscle cramps / muscle twitches?</th>\n",
              "      <th>Are there Swelling of feet and ankles?</th>\n",
              "      <th>Is there any difficulty in controlling high blood pressure (hypertension)?</th>\n",
              "      <th>Final Status</th>\n",
              "    </tr>\n",
              "  </thead>\n",
              "  <tbody>\n",
              "    <tr>\n",
              "      <th>0</th>\n",
              "      <td>2021/06/26 11:44:15 AM GMT+5:30</td>\n",
              "      <td>Male</td>\n",
              "      <td>65 - 74 years</td>\n",
              "      <td>1 - 3 years</td>\n",
              "      <td>120 - 139 mm Hg</td>\n",
              "      <td>Yes</td>\n",
              "      <td>No</td>\n",
              "      <td>Yes</td>\n",
              "      <td>No</td>\n",
              "      <td>Yes</td>\n",
              "      <td>No</td>\n",
              "      <td>Yes</td>\n",
              "      <td>Yes</td>\n",
              "      <td>No</td>\n",
              "      <td>Yes</td>\n",
              "      <td>No</td>\n",
              "      <td>Yes</td>\n",
              "      <td>No</td>\n",
              "      <td>Critical Patient</td>\n",
              "    </tr>\n",
              "    <tr>\n",
              "      <th>1</th>\n",
              "      <td>2021/06/26 12:45:14 PM GMT+5:30</td>\n",
              "      <td>Female</td>\n",
              "      <td>55 - 64 years</td>\n",
              "      <td>Below 1 year</td>\n",
              "      <td>120 - 139 mm Hg</td>\n",
              "      <td>No</td>\n",
              "      <td>No</td>\n",
              "      <td>No</td>\n",
              "      <td>No</td>\n",
              "      <td>No</td>\n",
              "      <td>No</td>\n",
              "      <td>No</td>\n",
              "      <td>No</td>\n",
              "      <td>No</td>\n",
              "      <td>No</td>\n",
              "      <td>No</td>\n",
              "      <td>No</td>\n",
              "      <td>No</td>\n",
              "      <td>Not a Critical Patient</td>\n",
              "    </tr>\n",
              "    <tr>\n",
              "      <th>2</th>\n",
              "      <td>2021/06/26 2:10:58 PM GMT+5:30</td>\n",
              "      <td>Male</td>\n",
              "      <td>75 - 84 years</td>\n",
              "      <td>4 - 6 years</td>\n",
              "      <td>140 - 159 mm Hg</td>\n",
              "      <td>No</td>\n",
              "      <td>Yes</td>\n",
              "      <td>No</td>\n",
              "      <td>Yes</td>\n",
              "      <td>Yes</td>\n",
              "      <td>No</td>\n",
              "      <td>No</td>\n",
              "      <td>Yes</td>\n",
              "      <td>Yes</td>\n",
              "      <td>Yes</td>\n",
              "      <td>Yes</td>\n",
              "      <td>No</td>\n",
              "      <td>Yes</td>\n",
              "      <td>Critical Patient</td>\n",
              "    </tr>\n",
              "    <tr>\n",
              "      <th>3</th>\n",
              "      <td>2021/06/26 2:12:47 PM GMT+5:30</td>\n",
              "      <td>Female</td>\n",
              "      <td>55 - 64 years</td>\n",
              "      <td>1 - 3 years</td>\n",
              "      <td>140 - 159 mm Hg</td>\n",
              "      <td>No</td>\n",
              "      <td>Yes</td>\n",
              "      <td>No</td>\n",
              "      <td>Yes</td>\n",
              "      <td>No</td>\n",
              "      <td>No</td>\n",
              "      <td>Yes</td>\n",
              "      <td>Yes</td>\n",
              "      <td>Yes</td>\n",
              "      <td>No</td>\n",
              "      <td>Yes</td>\n",
              "      <td>No</td>\n",
              "      <td>No</td>\n",
              "      <td>Not a Critical Patient</td>\n",
              "    </tr>\n",
              "    <tr>\n",
              "      <th>4</th>\n",
              "      <td>2021/06/26 2:14:10 PM GMT+5:30</td>\n",
              "      <td>Female</td>\n",
              "      <td>85 - 94 years</td>\n",
              "      <td>1 - 3 years</td>\n",
              "      <td>120 - 139 mm Hg</td>\n",
              "      <td>Yes</td>\n",
              "      <td>No</td>\n",
              "      <td>Yes</td>\n",
              "      <td>Yes</td>\n",
              "      <td>No</td>\n",
              "      <td>Yes</td>\n",
              "      <td>Yes</td>\n",
              "      <td>No</td>\n",
              "      <td>Yes</td>\n",
              "      <td>No</td>\n",
              "      <td>Yes</td>\n",
              "      <td>No</td>\n",
              "      <td>No</td>\n",
              "      <td>Critical Patient</td>\n",
              "    </tr>\n",
              "  </tbody>\n",
              "</table>\n",
              "</div>"
            ],
            "text/plain": [
              "                         Timestamp  ...            Final Status\n",
              "0  2021/06/26 11:44:15 AM GMT+5:30  ...        Critical Patient\n",
              "1  2021/06/26 12:45:14 PM GMT+5:30  ...  Not a Critical Patient\n",
              "2   2021/06/26 2:10:58 PM GMT+5:30  ...        Critical Patient\n",
              "3   2021/06/26 2:12:47 PM GMT+5:30  ...  Not a Critical Patient\n",
              "4   2021/06/26 2:14:10 PM GMT+5:30  ...        Critical Patient\n",
              "\n",
              "[5 rows x 19 columns]"
            ]
          },
          "metadata": {
            "tags": []
          },
          "execution_count": 5
        }
      ]
    },
    {
      "cell_type": "code",
      "metadata": {
        "id": "rxgMW26AQ_Ja"
      },
      "source": [
        "data=data.drop(columns='Timestamp')"
      ],
      "execution_count": 6,
      "outputs": []
    },
    {
      "cell_type": "code",
      "metadata": {
        "id": "xkyvC95HQ_Ja"
      },
      "source": [
        "names=['gender',\n",
        "'age',\n",
        "'kidney_t',\n",
        "'pressure_le',\n",
        "'nausea_s',\n",
        "'vomit_s',\n",
        "'appetite_s',\n",
        "'itching_s',\n",
        "'hiccups_s',\n",
        "'taste_s',\n",
        "'fatigue_s',\n",
        "'sleep_s',\n",
        "'urinate_s',\n",
        "'mental_s',\n",
        "'muscle_s',\n",
        "'swelling_s',\n",
        "'hypertension_s',\n",
        "'classification_s']"
      ],
      "execution_count": 7,
      "outputs": []
    },
    {
      "cell_type": "code",
      "metadata": {
        "id": "mJQ1F5SvQ_Ja"
      },
      "source": [
        "data_top=list(data)"
      ],
      "execution_count": 8,
      "outputs": []
    },
    {
      "cell_type": "code",
      "metadata": {
        "colab": {
          "base_uri": "https://localhost:8080/"
        },
        "id": "p561U96OQ_Jb",
        "outputId": "355db156-b709-453f-a098-2d8442448c22"
      },
      "source": [
        "data_top"
      ],
      "execution_count": 9,
      "outputs": [
        {
          "output_type": "execute_result",
          "data": {
            "text/plain": [
              "['What is your gender?',\n",
              " 'What is your age group?',\n",
              " 'How long you suffer from kidney disease?',\n",
              " 'Select your blood pressure level',\n",
              " 'Do you have frequent nausea?',\n",
              " 'Do you have frequent vomit?',\n",
              " 'Do you have a loss of appetite?',\n",
              " 'Is there a persistent itching in your skin?',\n",
              " 'Do you have frequent hiccups?',\n",
              " 'Is there metallic taste in your mouth?',\n",
              " 'Have you feel fatigue and weakness?',\n",
              " 'Do you have difficulties of sleeping?',\n",
              " 'Are there any changes in how much you urinate?',\n",
              " 'Have you feel decreased mental sharpness?',\n",
              " 'Do you have frequent muscle cramps / muscle twitches?',\n",
              " 'Are there Swelling of feet and ankles?',\n",
              " 'Is there any difficulty in controlling high blood pressure (hypertension)?',\n",
              " 'Final Status']"
            ]
          },
          "metadata": {
            "tags": []
          },
          "execution_count": 9
        }
      ]
    },
    {
      "cell_type": "markdown",
      "metadata": {
        "id": "HLgT3DkBQ_Jb"
      },
      "source": [
        ""
      ]
    },
    {
      "cell_type": "code",
      "metadata": {
        "id": "ww_SNBxVQ_Jc"
      },
      "source": [
        "df = data.rename(columns={data_top[0]:names[0],\n",
        "                          data_top[1]:names[1],\n",
        "                          data_top[2]:names[2],\n",
        "                          data_top[3]:names[3],\n",
        "                          data_top[4]:names[4],\n",
        "                          data_top[5]:names[5],\n",
        "                          data_top[6]:names[6],\n",
        "                          data_top[7]:names[7],\n",
        "                          data_top[8]:names[8],\n",
        "                          data_top[9]:names[9],\n",
        "                          data_top[10]:names[10],\n",
        "                          data_top[11]:names[11],\n",
        "                          data_top[12]:names[12],\n",
        "                          data_top[13]:names[13],\n",
        "                          data_top[14]:names[14],\n",
        "                          data_top[15]:names[15],\n",
        "                          data_top[16]:names[16],\n",
        "                          data_top[17]:names[17]      \n",
        "                         })\n"
      ],
      "execution_count": 12,
      "outputs": []
    },
    {
      "cell_type": "code",
      "metadata": {
        "colab": {
          "base_uri": "https://localhost:8080/",
          "height": 359
        },
        "id": "CQ03pGxhQ_Jd",
        "outputId": "7111a90f-61af-484d-ac26-6e6e6144493c"
      },
      "source": [
        "df.head(10)"
      ],
      "execution_count": 13,
      "outputs": [
        {
          "output_type": "execute_result",
          "data": {
            "text/html": [
              "<div>\n",
              "<style scoped>\n",
              "    .dataframe tbody tr th:only-of-type {\n",
              "        vertical-align: middle;\n",
              "    }\n",
              "\n",
              "    .dataframe tbody tr th {\n",
              "        vertical-align: top;\n",
              "    }\n",
              "\n",
              "    .dataframe thead th {\n",
              "        text-align: right;\n",
              "    }\n",
              "</style>\n",
              "<table border=\"1\" class=\"dataframe\">\n",
              "  <thead>\n",
              "    <tr style=\"text-align: right;\">\n",
              "      <th></th>\n",
              "      <th>gender</th>\n",
              "      <th>age</th>\n",
              "      <th>kidney_t</th>\n",
              "      <th>pressure_le</th>\n",
              "      <th>nausea_s</th>\n",
              "      <th>vomit_s</th>\n",
              "      <th>appetite_s</th>\n",
              "      <th>itching_s</th>\n",
              "      <th>hiccups_s</th>\n",
              "      <th>taste_s</th>\n",
              "      <th>fatigue_s</th>\n",
              "      <th>sleep_s</th>\n",
              "      <th>urinate_s</th>\n",
              "      <th>mental_s</th>\n",
              "      <th>muscle_s</th>\n",
              "      <th>swelling_s</th>\n",
              "      <th>hypertension_s</th>\n",
              "      <th>classification_s</th>\n",
              "    </tr>\n",
              "  </thead>\n",
              "  <tbody>\n",
              "    <tr>\n",
              "      <th>0</th>\n",
              "      <td>Male</td>\n",
              "      <td>65 - 74 years</td>\n",
              "      <td>1 - 3 years</td>\n",
              "      <td>120 - 139 mm Hg</td>\n",
              "      <td>Yes</td>\n",
              "      <td>No</td>\n",
              "      <td>Yes</td>\n",
              "      <td>No</td>\n",
              "      <td>Yes</td>\n",
              "      <td>No</td>\n",
              "      <td>Yes</td>\n",
              "      <td>Yes</td>\n",
              "      <td>No</td>\n",
              "      <td>Yes</td>\n",
              "      <td>No</td>\n",
              "      <td>Yes</td>\n",
              "      <td>No</td>\n",
              "      <td>Critical Patient</td>\n",
              "    </tr>\n",
              "    <tr>\n",
              "      <th>1</th>\n",
              "      <td>Female</td>\n",
              "      <td>55 - 64 years</td>\n",
              "      <td>Below 1 year</td>\n",
              "      <td>120 - 139 mm Hg</td>\n",
              "      <td>No</td>\n",
              "      <td>No</td>\n",
              "      <td>No</td>\n",
              "      <td>No</td>\n",
              "      <td>No</td>\n",
              "      <td>No</td>\n",
              "      <td>No</td>\n",
              "      <td>No</td>\n",
              "      <td>No</td>\n",
              "      <td>No</td>\n",
              "      <td>No</td>\n",
              "      <td>No</td>\n",
              "      <td>No</td>\n",
              "      <td>Not a Critical Patient</td>\n",
              "    </tr>\n",
              "    <tr>\n",
              "      <th>2</th>\n",
              "      <td>Male</td>\n",
              "      <td>75 - 84 years</td>\n",
              "      <td>4 - 6 years</td>\n",
              "      <td>140 - 159 mm Hg</td>\n",
              "      <td>No</td>\n",
              "      <td>Yes</td>\n",
              "      <td>No</td>\n",
              "      <td>Yes</td>\n",
              "      <td>Yes</td>\n",
              "      <td>No</td>\n",
              "      <td>No</td>\n",
              "      <td>Yes</td>\n",
              "      <td>Yes</td>\n",
              "      <td>Yes</td>\n",
              "      <td>Yes</td>\n",
              "      <td>No</td>\n",
              "      <td>Yes</td>\n",
              "      <td>Critical Patient</td>\n",
              "    </tr>\n",
              "    <tr>\n",
              "      <th>3</th>\n",
              "      <td>Female</td>\n",
              "      <td>55 - 64 years</td>\n",
              "      <td>1 - 3 years</td>\n",
              "      <td>140 - 159 mm Hg</td>\n",
              "      <td>No</td>\n",
              "      <td>Yes</td>\n",
              "      <td>No</td>\n",
              "      <td>Yes</td>\n",
              "      <td>No</td>\n",
              "      <td>No</td>\n",
              "      <td>Yes</td>\n",
              "      <td>Yes</td>\n",
              "      <td>Yes</td>\n",
              "      <td>No</td>\n",
              "      <td>Yes</td>\n",
              "      <td>No</td>\n",
              "      <td>No</td>\n",
              "      <td>Not a Critical Patient</td>\n",
              "    </tr>\n",
              "    <tr>\n",
              "      <th>4</th>\n",
              "      <td>Female</td>\n",
              "      <td>85 - 94 years</td>\n",
              "      <td>1 - 3 years</td>\n",
              "      <td>120 - 139 mm Hg</td>\n",
              "      <td>Yes</td>\n",
              "      <td>No</td>\n",
              "      <td>Yes</td>\n",
              "      <td>Yes</td>\n",
              "      <td>No</td>\n",
              "      <td>Yes</td>\n",
              "      <td>Yes</td>\n",
              "      <td>No</td>\n",
              "      <td>Yes</td>\n",
              "      <td>No</td>\n",
              "      <td>Yes</td>\n",
              "      <td>No</td>\n",
              "      <td>No</td>\n",
              "      <td>Critical Patient</td>\n",
              "    </tr>\n",
              "    <tr>\n",
              "      <th>5</th>\n",
              "      <td>Female</td>\n",
              "      <td>55 - 64 years</td>\n",
              "      <td>Below 1 year</td>\n",
              "      <td>&lt; 120 mm Hg</td>\n",
              "      <td>No</td>\n",
              "      <td>No</td>\n",
              "      <td>No</td>\n",
              "      <td>No</td>\n",
              "      <td>No</td>\n",
              "      <td>No</td>\n",
              "      <td>Yes</td>\n",
              "      <td>No</td>\n",
              "      <td>No</td>\n",
              "      <td>No</td>\n",
              "      <td>Yes</td>\n",
              "      <td>No</td>\n",
              "      <td>No</td>\n",
              "      <td>Not a Critical Patient</td>\n",
              "    </tr>\n",
              "    <tr>\n",
              "      <th>6</th>\n",
              "      <td>Male</td>\n",
              "      <td>65 - 74 years</td>\n",
              "      <td>1 - 3 years</td>\n",
              "      <td>120 - 139 mm Hg</td>\n",
              "      <td>Yes</td>\n",
              "      <td>No</td>\n",
              "      <td>No</td>\n",
              "      <td>Yes</td>\n",
              "      <td>No</td>\n",
              "      <td>Yes</td>\n",
              "      <td>No</td>\n",
              "      <td>Yes</td>\n",
              "      <td>Yes</td>\n",
              "      <td>No</td>\n",
              "      <td>No</td>\n",
              "      <td>No</td>\n",
              "      <td>No</td>\n",
              "      <td>Critical Patient</td>\n",
              "    </tr>\n",
              "    <tr>\n",
              "      <th>7</th>\n",
              "      <td>Female</td>\n",
              "      <td>75 - 84 years</td>\n",
              "      <td>Below 1 year</td>\n",
              "      <td>120 - 139 mm Hg</td>\n",
              "      <td>Yes</td>\n",
              "      <td>Yes</td>\n",
              "      <td>Yes</td>\n",
              "      <td>Yes</td>\n",
              "      <td>No</td>\n",
              "      <td>No</td>\n",
              "      <td>No</td>\n",
              "      <td>Yes</td>\n",
              "      <td>No</td>\n",
              "      <td>Yes</td>\n",
              "      <td>No</td>\n",
              "      <td>Yes</td>\n",
              "      <td>No</td>\n",
              "      <td>Critical Patient</td>\n",
              "    </tr>\n",
              "    <tr>\n",
              "      <th>8</th>\n",
              "      <td>Male</td>\n",
              "      <td>75 - 84 years</td>\n",
              "      <td>Below 1 year</td>\n",
              "      <td>140 - 159 mm Hg</td>\n",
              "      <td>Yes</td>\n",
              "      <td>No</td>\n",
              "      <td>Yes</td>\n",
              "      <td>No</td>\n",
              "      <td>Yes</td>\n",
              "      <td>No</td>\n",
              "      <td>Yes</td>\n",
              "      <td>Yes</td>\n",
              "      <td>No</td>\n",
              "      <td>Yes</td>\n",
              "      <td>No</td>\n",
              "      <td>Yes</td>\n",
              "      <td>Yes</td>\n",
              "      <td>Critical Patient</td>\n",
              "    </tr>\n",
              "    <tr>\n",
              "      <th>9</th>\n",
              "      <td>Female</td>\n",
              "      <td>55 - 64 years</td>\n",
              "      <td>1 - 3 years</td>\n",
              "      <td>120 - 139 mm Hg</td>\n",
              "      <td>Yes</td>\n",
              "      <td>Yes</td>\n",
              "      <td>Yes</td>\n",
              "      <td>No</td>\n",
              "      <td>Yes</td>\n",
              "      <td>No</td>\n",
              "      <td>Yes</td>\n",
              "      <td>Yes</td>\n",
              "      <td>No</td>\n",
              "      <td>Yes</td>\n",
              "      <td>No</td>\n",
              "      <td>No</td>\n",
              "      <td>No</td>\n",
              "      <td>Critical Patient</td>\n",
              "    </tr>\n",
              "  </tbody>\n",
              "</table>\n",
              "</div>"
            ],
            "text/plain": [
              "   gender            age  ... hypertension_s        classification_s\n",
              "0    Male  65 - 74 years  ...             No        Critical Patient\n",
              "1  Female  55 - 64 years  ...             No  Not a Critical Patient\n",
              "2    Male  75 - 84 years  ...            Yes        Critical Patient\n",
              "3  Female  55 - 64 years  ...             No  Not a Critical Patient\n",
              "4  Female  85 - 94 years  ...             No        Critical Patient\n",
              "5  Female  55 - 64 years  ...             No  Not a Critical Patient\n",
              "6    Male  65 - 74 years  ...             No        Critical Patient\n",
              "7  Female  75 - 84 years  ...             No        Critical Patient\n",
              "8    Male  75 - 84 years  ...            Yes        Critical Patient\n",
              "9  Female  55 - 64 years  ...             No        Critical Patient\n",
              "\n",
              "[10 rows x 18 columns]"
            ]
          },
          "metadata": {
            "tags": []
          },
          "execution_count": 13
        }
      ]
    },
    {
      "cell_type": "code",
      "metadata": {
        "colab": {
          "base_uri": "https://localhost:8080/"
        },
        "id": "dBXits17Q_Jd",
        "outputId": "ec851b27-cc66-4ccb-d26b-32256907ac22"
      },
      "source": [
        "df.info()"
      ],
      "execution_count": 14,
      "outputs": [
        {
          "output_type": "stream",
          "text": [
            "<class 'pandas.core.frame.DataFrame'>\n",
            "RangeIndex: 128 entries, 0 to 127\n",
            "Data columns (total 18 columns):\n",
            " #   Column            Non-Null Count  Dtype \n",
            "---  ------            --------------  ----- \n",
            " 0   gender            128 non-null    object\n",
            " 1   age               128 non-null    object\n",
            " 2   kidney_t          128 non-null    object\n",
            " 3   pressure_le       128 non-null    object\n",
            " 4   nausea_s          128 non-null    object\n",
            " 5   vomit_s           128 non-null    object\n",
            " 6   appetite_s        128 non-null    object\n",
            " 7   itching_s         128 non-null    object\n",
            " 8   hiccups_s         128 non-null    object\n",
            " 9   taste_s           128 non-null    object\n",
            " 10  fatigue_s         128 non-null    object\n",
            " 11  sleep_s           128 non-null    object\n",
            " 12  urinate_s         128 non-null    object\n",
            " 13  mental_s          128 non-null    object\n",
            " 14  muscle_s          128 non-null    object\n",
            " 15  swelling_s        128 non-null    object\n",
            " 16  hypertension_s    128 non-null    object\n",
            " 17  classification_s  128 non-null    object\n",
            "dtypes: object(18)\n",
            "memory usage: 18.1+ KB\n"
          ],
          "name": "stdout"
        }
      ]
    },
    {
      "cell_type": "code",
      "metadata": {
        "colab": {
          "base_uri": "https://localhost:8080/"
        },
        "id": "itnI6HYPQ_Jd",
        "outputId": "9beadc71-6ca3-4ab0-b084-7d97c31587ac"
      },
      "source": [
        "print(\"Shape :\",df.shape)"
      ],
      "execution_count": 15,
      "outputs": [
        {
          "output_type": "stream",
          "text": [
            "Shape : (128, 18)\n"
          ],
          "name": "stdout"
        }
      ]
    },
    {
      "cell_type": "code",
      "metadata": {
        "colab": {
          "base_uri": "https://localhost:8080/"
        },
        "id": "G8B1YuuzQ_Je",
        "outputId": "9af16715-6a82-4b72-949e-e48ac6131f00"
      },
      "source": [
        "print(df.describe())"
      ],
      "execution_count": 16,
      "outputs": [
        {
          "output_type": "stream",
          "text": [
            "        gender            age  ... hypertension_s  classification_s\n",
            "count      128            128  ...            128               128\n",
            "unique       2              5  ...              2                 2\n",
            "top     Female  65 - 74 years  ...             No  Critical Patient\n",
            "freq        69             43  ...             72                87\n",
            "\n",
            "[4 rows x 18 columns]\n"
          ],
          "name": "stdout"
        }
      ]
    },
    {
      "cell_type": "code",
      "metadata": {
        "colab": {
          "base_uri": "https://localhost:8080/",
          "height": 173
        },
        "id": "iNoCF7GZQ_Je",
        "outputId": "fca81392-f950-4736-c7c4-6c9cd85a293b"
      },
      "source": [
        "#we will deal with categorical data after cleaning the data\n",
        "df.astype('category').describe()"
      ],
      "execution_count": 17,
      "outputs": [
        {
          "output_type": "execute_result",
          "data": {
            "text/html": [
              "<div>\n",
              "<style scoped>\n",
              "    .dataframe tbody tr th:only-of-type {\n",
              "        vertical-align: middle;\n",
              "    }\n",
              "\n",
              "    .dataframe tbody tr th {\n",
              "        vertical-align: top;\n",
              "    }\n",
              "\n",
              "    .dataframe thead th {\n",
              "        text-align: right;\n",
              "    }\n",
              "</style>\n",
              "<table border=\"1\" class=\"dataframe\">\n",
              "  <thead>\n",
              "    <tr style=\"text-align: right;\">\n",
              "      <th></th>\n",
              "      <th>gender</th>\n",
              "      <th>age</th>\n",
              "      <th>kidney_t</th>\n",
              "      <th>pressure_le</th>\n",
              "      <th>nausea_s</th>\n",
              "      <th>vomit_s</th>\n",
              "      <th>appetite_s</th>\n",
              "      <th>itching_s</th>\n",
              "      <th>hiccups_s</th>\n",
              "      <th>taste_s</th>\n",
              "      <th>fatigue_s</th>\n",
              "      <th>sleep_s</th>\n",
              "      <th>urinate_s</th>\n",
              "      <th>mental_s</th>\n",
              "      <th>muscle_s</th>\n",
              "      <th>swelling_s</th>\n",
              "      <th>hypertension_s</th>\n",
              "      <th>classification_s</th>\n",
              "    </tr>\n",
              "  </thead>\n",
              "  <tbody>\n",
              "    <tr>\n",
              "      <th>count</th>\n",
              "      <td>128</td>\n",
              "      <td>128</td>\n",
              "      <td>128</td>\n",
              "      <td>128</td>\n",
              "      <td>128</td>\n",
              "      <td>128</td>\n",
              "      <td>128</td>\n",
              "      <td>128</td>\n",
              "      <td>128</td>\n",
              "      <td>128</td>\n",
              "      <td>128</td>\n",
              "      <td>128</td>\n",
              "      <td>128</td>\n",
              "      <td>128</td>\n",
              "      <td>128</td>\n",
              "      <td>128</td>\n",
              "      <td>128</td>\n",
              "      <td>128</td>\n",
              "    </tr>\n",
              "    <tr>\n",
              "      <th>unique</th>\n",
              "      <td>2</td>\n",
              "      <td>5</td>\n",
              "      <td>4</td>\n",
              "      <td>4</td>\n",
              "      <td>2</td>\n",
              "      <td>2</td>\n",
              "      <td>2</td>\n",
              "      <td>2</td>\n",
              "      <td>2</td>\n",
              "      <td>2</td>\n",
              "      <td>2</td>\n",
              "      <td>2</td>\n",
              "      <td>2</td>\n",
              "      <td>2</td>\n",
              "      <td>2</td>\n",
              "      <td>2</td>\n",
              "      <td>2</td>\n",
              "      <td>2</td>\n",
              "    </tr>\n",
              "    <tr>\n",
              "      <th>top</th>\n",
              "      <td>Female</td>\n",
              "      <td>65 - 74 years</td>\n",
              "      <td>1 - 3 years</td>\n",
              "      <td>120 - 139 mm Hg</td>\n",
              "      <td>Yes</td>\n",
              "      <td>No</td>\n",
              "      <td>No</td>\n",
              "      <td>No</td>\n",
              "      <td>No</td>\n",
              "      <td>No</td>\n",
              "      <td>Yes</td>\n",
              "      <td>No</td>\n",
              "      <td>Yes</td>\n",
              "      <td>No</td>\n",
              "      <td>Yes</td>\n",
              "      <td>No</td>\n",
              "      <td>No</td>\n",
              "      <td>Critical Patient</td>\n",
              "    </tr>\n",
              "    <tr>\n",
              "      <th>freq</th>\n",
              "      <td>69</td>\n",
              "      <td>43</td>\n",
              "      <td>62</td>\n",
              "      <td>86</td>\n",
              "      <td>90</td>\n",
              "      <td>84</td>\n",
              "      <td>66</td>\n",
              "      <td>74</td>\n",
              "      <td>72</td>\n",
              "      <td>75</td>\n",
              "      <td>65</td>\n",
              "      <td>66</td>\n",
              "      <td>68</td>\n",
              "      <td>68</td>\n",
              "      <td>65</td>\n",
              "      <td>70</td>\n",
              "      <td>72</td>\n",
              "      <td>87</td>\n",
              "    </tr>\n",
              "  </tbody>\n",
              "</table>\n",
              "</div>"
            ],
            "text/plain": [
              "        gender            age  ... hypertension_s  classification_s\n",
              "count      128            128  ...            128               128\n",
              "unique       2              5  ...              2                 2\n",
              "top     Female  65 - 74 years  ...             No  Critical Patient\n",
              "freq        69             43  ...             72                87\n",
              "\n",
              "[4 rows x 18 columns]"
            ]
          },
          "metadata": {
            "tags": []
          },
          "execution_count": 17
        }
      ]
    },
    {
      "cell_type": "code",
      "metadata": {
        "colab": {
          "base_uri": "https://localhost:8080/"
        },
        "id": "284YyxbkQ_Je",
        "outputId": "e4baf13e-6143-4fa5-c194-9d61e3b233d5"
      },
      "source": [
        "df.isnull().sum()"
      ],
      "execution_count": 18,
      "outputs": [
        {
          "output_type": "execute_result",
          "data": {
            "text/plain": [
              "gender              0\n",
              "age                 0\n",
              "kidney_t            0\n",
              "pressure_le         0\n",
              "nausea_s            0\n",
              "vomit_s             0\n",
              "appetite_s          0\n",
              "itching_s           0\n",
              "hiccups_s           0\n",
              "taste_s             0\n",
              "fatigue_s           0\n",
              "sleep_s             0\n",
              "urinate_s           0\n",
              "mental_s            0\n",
              "muscle_s            0\n",
              "swelling_s          0\n",
              "hypertension_s      0\n",
              "classification_s    0\n",
              "dtype: int64"
            ]
          },
          "metadata": {
            "tags": []
          },
          "execution_count": 18
        }
      ]
    },
    {
      "cell_type": "code",
      "metadata": {
        "colab": {
          "base_uri": "https://localhost:8080/"
        },
        "id": "jXXtyfczQ_Jf",
        "outputId": "781f9521-c3e9-49fb-c6f0-be9181794842"
      },
      "source": [
        "df['age'].unique()"
      ],
      "execution_count": 19,
      "outputs": [
        {
          "output_type": "execute_result",
          "data": {
            "text/plain": [
              "array(['65 - 74 years', '55 - 64 years', '75 - 84 years', '85 - 94 years',\n",
              "       'Above 95 years'], dtype=object)"
            ]
          },
          "metadata": {
            "tags": []
          },
          "execution_count": 19
        }
      ]
    },
    {
      "cell_type": "code",
      "metadata": {
        "id": "LWRaOaMOQ_Jf"
      },
      "source": [
        "# df[\"age\"].replace({\"65 - 74 years\": \"1\" }, inplace=True)\n",
        "# df[\"age\"].replace({\"55 - 64 years\": \"2\" }, inplace=True)\n",
        "# df[\"age\"].replace({\"75 - 84 years\": \"3\" }, inplace=True)\n",
        "# df[\"age\"].replace({\"85 - 94 years\": \"4\" }, inplace=True)\n",
        "# df[\"age\"].replace({\"Above 95 years\": \"5\" }, inplace=True)"
      ],
      "execution_count": 20,
      "outputs": []
    },
    {
      "cell_type": "code",
      "metadata": {
        "id": "w6nx__BvQ_Jf"
      },
      "source": [
        "# df[\"pressure_le\"].replace({\"< 120 mm Hg\": \"0\" }, inplace=True)\n",
        "# df[\"pressure_le\"].replace({\"120 - 139 mm Hg\": \"1\" }, inplace=True)\n",
        "# df[\"pressure_le\"].replace({\"140 - 159 mm Hg\": \"2\" }, inplace=True)\n",
        "# df[\"pressure_le\"].replace({\"160 - 179 mm Hg\": \"3\" }, inplace=True)"
      ],
      "execution_count": 21,
      "outputs": []
    },
    {
      "cell_type": "code",
      "metadata": {
        "id": "6uaTgqF6Q_Jf"
      },
      "source": [
        "# df[\"kidney_t\"].replace({\"Below 1 year\": \"0\" }, inplace=True)\n",
        "# df[\"kidney_t\"].replace({\"1 - 3 years\": \"1\" }, inplace=True)\n",
        "# df[\"kidney_t\"].replace({\"4 - 6 years\": \"2\" }, inplace=True)\n",
        "# df[\"kidney_t\"].replace({\"Above 7 years\": \"3\" }, inplace=True)"
      ],
      "execution_count": 22,
      "outputs": []
    },
    {
      "cell_type": "code",
      "metadata": {
        "colab": {
          "base_uri": "https://localhost:8080/"
        },
        "id": "pMyQogzjQ_Jf",
        "outputId": "cb2ef2df-de91-455c-f4b5-bb926e66f227"
      },
      "source": [
        "df['age'].unique()"
      ],
      "execution_count": 23,
      "outputs": [
        {
          "output_type": "execute_result",
          "data": {
            "text/plain": [
              "array(['65 - 74 years', '55 - 64 years', '75 - 84 years', '85 - 94 years',\n",
              "       'Above 95 years'], dtype=object)"
            ]
          },
          "metadata": {
            "tags": []
          },
          "execution_count": 23
        }
      ]
    },
    {
      "cell_type": "code",
      "metadata": {
        "colab": {
          "base_uri": "https://localhost:8080/"
        },
        "id": "tZQzQtDHQ_Jg",
        "outputId": "426ccd41-b8f7-44d1-ec51-74244c0dcb4c"
      },
      "source": [
        "df['classification_s'].unique()"
      ],
      "execution_count": 24,
      "outputs": [
        {
          "output_type": "execute_result",
          "data": {
            "text/plain": [
              "array(['Critical Patient', 'Not a Critical Patient'], dtype=object)"
            ]
          },
          "metadata": {
            "tags": []
          },
          "execution_count": 24
        }
      ]
    },
    {
      "cell_type": "markdown",
      "metadata": {
        "id": "qmWZ2N6nQ_Jg"
      },
      "source": [
        "## Data Visualization"
      ]
    },
    {
      "cell_type": "code",
      "metadata": {
        "id": "nFPRW7XrQ_Jg"
      },
      "source": [
        "import seaborn as sns\n",
        "import matplotlib.ticker as ticker\n",
        "import matplotlib.cm as cm\n",
        "import matplotlib as mpl\n",
        "from matplotlib.gridspec import GridSpec\n",
        "import matplotlib.pyplot as plt"
      ],
      "execution_count": 25,
      "outputs": []
    },
    {
      "cell_type": "code",
      "metadata": {
        "id": "_-ljDO6cQ_Jg"
      },
      "source": [
        "cmap = plt.get_cmap('Spectral')\n",
        "colors = [cmap(i) for i in np.linspace(0, 1, 8)]"
      ],
      "execution_count": 26,
      "outputs": []
    },
    {
      "cell_type": "code",
      "metadata": {
        "colab": {
          "base_uri": "https://localhost:8080/",
          "height": 717
        },
        "id": "sLR4R_6pQ_Jg",
        "outputId": "d5ad140b-1e50-41b2-f75c-18c4ca0a887d"
      },
      "source": [
        "fig, ax = plt.subplots(2,2, figsize=(15,10))\n",
        "\n",
        "df['nausea_s'].value_counts().plot(kind='bar',color = colors, ax=ax[0,0])\n",
        "df['vomit_s'].value_counts().plot(kind='bar',color = colors, ax=ax[0,1])\n",
        "df['appetite_s'].value_counts().plot(kind='bar',color = colors, ax=ax[1,0])\n",
        "df['classification_s'].value_counts().plot(kind='bar',color = colors, ax=ax[1,1])\n",
        "\n",
        "ax[0, 0].set_title(\"Do you have frequent nausea?\")\n",
        "ax[0, 1].set_title(\"Do you have frequent vomit?\")\n",
        "ax[1, 0].set_title(\"Do you have a loss of appetite?\")\n",
        "ax[1, 1].set_title(\"CDK status\")\n",
        "\n"
      ],
      "execution_count": 27,
      "outputs": [
        {
          "output_type": "execute_result",
          "data": {
            "text/plain": [
              "Text(0.5, 1.0, 'CDK status')"
            ]
          },
          "metadata": {
            "tags": []
          },
          "execution_count": 27
        },
        {
          "output_type": "display_data",
          "data": {
            "image/png": "[encoded data removed]",
            "text/plain": [
              "<Figure size 1080x720 with 4 Axes>"
            ]
          },
          "metadata": {
            "tags": [],
            "needs_background": "light"
          }
        }
      ]
    },
    {
      "cell_type": "code",
      "metadata": {
        "colab": {
          "base_uri": "https://localhost:8080/"
        },
        "id": "F1u99HquQ_Jh",
        "outputId": "6aa41f2b-b340-43e2-b5dc-b304c455b75c"
      },
      "source": [
        "names"
      ],
      "execution_count": 28,
      "outputs": [
        {
          "output_type": "execute_result",
          "data": {
            "text/plain": [
              "['gender',\n",
              " 'age',\n",
              " 'kidney_t',\n",
              " 'pressure_le',\n",
              " 'nausea_s',\n",
              " 'vomit_s',\n",
              " 'appetite_s',\n",
              " 'itching_s',\n",
              " 'hiccups_s',\n",
              " 'taste_s',\n",
              " 'fatigue_s',\n",
              " 'sleep_s',\n",
              " 'urinate_s',\n",
              " 'mental_s',\n",
              " 'muscle_s',\n",
              " 'swelling_s',\n",
              " 'hypertension_s',\n",
              " 'classification_s']"
            ]
          },
          "metadata": {
            "tags": []
          },
          "execution_count": 28
        }
      ]
    },
    {
      "cell_type": "markdown",
      "metadata": {
        "id": "JkD_VLo8Q_Jh"
      },
      "source": [
        "### Data Preprocessing "
      ]
    },
    {
      "cell_type": "code",
      "metadata": {
        "id": "SX0S-cxSQ_Jh"
      },
      "source": [
        "le = preprocessing.LabelEncoder()\n",
        "\n",
        "le.fit(df[\"gender\"])\n",
        "df[\"gender\"]=le.transform(df[\"gender\"])\n",
        "\n",
        "le.fit(df[\"age\"])\n",
        "df[\"age\"]=le.transform(df[\"age\"])\n",
        "\n",
        "le.fit(df[\"kidney_t\"])\n",
        "df[\"kidney_t\"]=le.transform(df[\"kidney_t\"])\n",
        "\n",
        "le.fit(df[\"pressure_le\"])\n",
        "df[\"pressure_le\"]=le.transform(df[\"pressure_le\"])\n",
        "\n",
        "le.fit(df[\"nausea_s\"])\n",
        "df[\"nausea_s\"]=le.transform(df[\"nausea_s\"])\n",
        "\n",
        "le.fit(df[\"vomit_s\"])\n",
        "df[\"vomit_s\"]=le.transform(df[\"vomit_s\"])\n",
        "\n",
        "le.fit(df[\"appetite_s\"])\n",
        "df[\"appetite_s\"]=le.transform(df[\"appetite_s\"])\n",
        "\n",
        "le.fit(df[\"itching_s\"])\n",
        "df[\"itching_s\"]=le.transform(df[\"itching_s\"])\n",
        "\n",
        "le.fit(df[\"hiccups_s\"])\n",
        "df[\"hiccups_s\"]=le.transform(df[\"hiccups_s\"])\n",
        "\n",
        "le.fit(df[\"gender\"])\n",
        "df[\"gender\"]=le.transform(df[\"gender\"])\n",
        "\n",
        "le.fit(df[\"taste_s\"])\n",
        "df[\"taste_s\"]=le.transform(df[\"taste_s\"])\n",
        "\n",
        "le.fit(df[\"fatigue_s\"])\n",
        "df[\"fatigue_s\"]=le.transform(df[\"fatigue_s\"])\n",
        "\n",
        "le.fit(df[\"sleep_s\"])\n",
        "df[\"sleep_s\"]=le.transform(df[\"sleep_s\"])\n",
        "\n",
        "le.fit(df[\"urinate_s\"])\n",
        "df[\"urinate_s\"]=le.transform(df[\"urinate_s\"])\n",
        "\n",
        "le.fit(df[\"mental_s\"])\n",
        "df[\"mental_s\"]=le.transform(df[\"mental_s\"])\n",
        "\n",
        "le.fit(df[\"muscle_s\"])\n",
        "df[\"muscle_s\"]=le.transform(df[\"muscle_s\"])\n",
        "\n",
        "le.fit(df[\"swelling_s\"])\n",
        "df[\"swelling_s\"]=le.transform(df[\"swelling_s\"])\n",
        "\n",
        "le.fit(df[\"hypertension_s\"])\n",
        "df[\"hypertension_s\"]=le.transform(df[\"hypertension_s\"])"
      ],
      "execution_count": 39,
      "outputs": []
    },
    {
      "cell_type": "code",
      "metadata": {
        "colab": {
          "base_uri": "https://localhost:8080/",
          "height": 419
        },
        "id": "CQdsqQyLQ_Jh",
        "outputId": "11a67845-2607-4af4-b116-89168dc85fb6"
      },
      "source": [
        "df"
      ],
      "execution_count": 40,
      "outputs": [
        {
          "output_type": "execute_result",
          "data": {
            "text/html": [
              "<div>\n",
              "<style scoped>\n",
              "    .dataframe tbody tr th:only-of-type {\n",
              "        vertical-align: middle;\n",
              "    }\n",
              "\n",
              "    .dataframe tbody tr th {\n",
              "        vertical-align: top;\n",
              "    }\n",
              "\n",
              "    .dataframe thead th {\n",
              "        text-align: right;\n",
              "    }\n",
              "</style>\n",
              "<table border=\"1\" class=\"dataframe\">\n",
              "  <thead>\n",
              "    <tr style=\"text-align: right;\">\n",
              "      <th></th>\n",
              "      <th>gender</th>\n",
              "      <th>age</th>\n",
              "      <th>kidney_t</th>\n",
              "      <th>pressure_le</th>\n",
              "      <th>nausea_s</th>\n",
              "      <th>vomit_s</th>\n",
              "      <th>appetite_s</th>\n",
              "      <th>itching_s</th>\n",
              "      <th>hiccups_s</th>\n",
              "      <th>taste_s</th>\n",
              "      <th>fatigue_s</th>\n",
              "      <th>sleep_s</th>\n",
              "      <th>urinate_s</th>\n",
              "      <th>mental_s</th>\n",
              "      <th>muscle_s</th>\n",
              "      <th>swelling_s</th>\n",
              "      <th>hypertension_s</th>\n",
              "      <th>classification_s</th>\n",
              "    </tr>\n",
              "  </thead>\n",
              "  <tbody>\n",
              "    <tr>\n",
              "      <th>0</th>\n",
              "      <td>1</td>\n",
              "      <td>1</td>\n",
              "      <td>0</td>\n",
              "      <td>0</td>\n",
              "      <td>1</td>\n",
              "      <td>0</td>\n",
              "      <td>1</td>\n",
              "      <td>0</td>\n",
              "      <td>1</td>\n",
              "      <td>0</td>\n",
              "      <td>1</td>\n",
              "      <td>1</td>\n",
              "      <td>0</td>\n",
              "      <td>1</td>\n",
              "      <td>0</td>\n",
              "      <td>1</td>\n",
              "      <td>0</td>\n",
              "      <td>1</td>\n",
              "    </tr>\n",
              "    <tr>\n",
              "      <th>1</th>\n",
              "      <td>0</td>\n",
              "      <td>0</td>\n",
              "      <td>3</td>\n",
              "      <td>0</td>\n",
              "      <td>0</td>\n",
              "      <td>0</td>\n",
              "      <td>0</td>\n",
              "      <td>0</td>\n",
              "      <td>0</td>\n",
              "      <td>0</td>\n",
              "      <td>0</td>\n",
              "      <td>0</td>\n",
              "      <td>0</td>\n",
              "      <td>0</td>\n",
              "      <td>0</td>\n",
              "      <td>0</td>\n",
              "      <td>0</td>\n",
              "      <td>0</td>\n",
              "    </tr>\n",
              "    <tr>\n",
              "      <th>2</th>\n",
              "      <td>1</td>\n",
              "      <td>2</td>\n",
              "      <td>1</td>\n",
              "      <td>1</td>\n",
              "      <td>0</td>\n",
              "      <td>1</td>\n",
              "      <td>0</td>\n",
              "      <td>1</td>\n",
              "      <td>1</td>\n",
              "      <td>0</td>\n",
              "      <td>0</td>\n",
              "      <td>1</td>\n",
              "      <td>1</td>\n",
              "      <td>1</td>\n",
              "      <td>1</td>\n",
              "      <td>0</td>\n",
              "      <td>1</td>\n",
              "      <td>1</td>\n",
              "    </tr>\n",
              "    <tr>\n",
              "      <th>3</th>\n",
              "      <td>0</td>\n",
              "      <td>0</td>\n",
              "      <td>0</td>\n",
              "      <td>1</td>\n",
              "      <td>0</td>\n",
              "      <td>1</td>\n",
              "      <td>0</td>\n",
              "      <td>1</td>\n",
              "      <td>0</td>\n",
              "      <td>0</td>\n",
              "      <td>1</td>\n",
              "      <td>1</td>\n",
              "      <td>1</td>\n",
              "      <td>0</td>\n",
              "      <td>1</td>\n",
              "      <td>0</td>\n",
              "      <td>0</td>\n",
              "      <td>0</td>\n",
              "    </tr>\n",
              "    <tr>\n",
              "      <th>4</th>\n",
              "      <td>0</td>\n",
              "      <td>3</td>\n",
              "      <td>0</td>\n",
              "      <td>0</td>\n",
              "      <td>1</td>\n",
              "      <td>0</td>\n",
              "      <td>1</td>\n",
              "      <td>1</td>\n",
              "      <td>0</td>\n",
              "      <td>1</td>\n",
              "      <td>1</td>\n",
              "      <td>0</td>\n",
              "      <td>1</td>\n",
              "      <td>0</td>\n",
              "      <td>1</td>\n",
              "      <td>0</td>\n",
              "      <td>0</td>\n",
              "      <td>1</td>\n",
              "    </tr>\n",
              "    <tr>\n",
              "      <th>...</th>\n",
              "      <td>...</td>\n",
              "      <td>...</td>\n",
              "      <td>...</td>\n",
              "      <td>...</td>\n",
              "      <td>...</td>\n",
              "      <td>...</td>\n",
              "      <td>...</td>\n",
              "      <td>...</td>\n",
              "      <td>...</td>\n",
              "      <td>...</td>\n",
              "      <td>...</td>\n",
              "      <td>...</td>\n",
              "      <td>...</td>\n",
              "      <td>...</td>\n",
              "      <td>...</td>\n",
              "      <td>...</td>\n",
              "      <td>...</td>\n",
              "      <td>...</td>\n",
              "    </tr>\n",
              "    <tr>\n",
              "      <th>123</th>\n",
              "      <td>1</td>\n",
              "      <td>3</td>\n",
              "      <td>0</td>\n",
              "      <td>1</td>\n",
              "      <td>1</td>\n",
              "      <td>1</td>\n",
              "      <td>0</td>\n",
              "      <td>1</td>\n",
              "      <td>1</td>\n",
              "      <td>1</td>\n",
              "      <td>1</td>\n",
              "      <td>1</td>\n",
              "      <td>0</td>\n",
              "      <td>1</td>\n",
              "      <td>0</td>\n",
              "      <td>1</td>\n",
              "      <td>1</td>\n",
              "      <td>1</td>\n",
              "    </tr>\n",
              "    <tr>\n",
              "      <th>124</th>\n",
              "      <td>0</td>\n",
              "      <td>0</td>\n",
              "      <td>0</td>\n",
              "      <td>0</td>\n",
              "      <td>1</td>\n",
              "      <td>0</td>\n",
              "      <td>1</td>\n",
              "      <td>0</td>\n",
              "      <td>0</td>\n",
              "      <td>1</td>\n",
              "      <td>0</td>\n",
              "      <td>1</td>\n",
              "      <td>1</td>\n",
              "      <td>0</td>\n",
              "      <td>1</td>\n",
              "      <td>0</td>\n",
              "      <td>1</td>\n",
              "      <td>1</td>\n",
              "    </tr>\n",
              "    <tr>\n",
              "      <th>125</th>\n",
              "      <td>1</td>\n",
              "      <td>1</td>\n",
              "      <td>0</td>\n",
              "      <td>0</td>\n",
              "      <td>1</td>\n",
              "      <td>0</td>\n",
              "      <td>1</td>\n",
              "      <td>0</td>\n",
              "      <td>1</td>\n",
              "      <td>0</td>\n",
              "      <td>1</td>\n",
              "      <td>0</td>\n",
              "      <td>1</td>\n",
              "      <td>0</td>\n",
              "      <td>1</td>\n",
              "      <td>0</td>\n",
              "      <td>1</td>\n",
              "      <td>1</td>\n",
              "    </tr>\n",
              "    <tr>\n",
              "      <th>126</th>\n",
              "      <td>1</td>\n",
              "      <td>3</td>\n",
              "      <td>2</td>\n",
              "      <td>0</td>\n",
              "      <td>1</td>\n",
              "      <td>0</td>\n",
              "      <td>1</td>\n",
              "      <td>0</td>\n",
              "      <td>1</td>\n",
              "      <td>0</td>\n",
              "      <td>1</td>\n",
              "      <td>0</td>\n",
              "      <td>1</td>\n",
              "      <td>0</td>\n",
              "      <td>0</td>\n",
              "      <td>1</td>\n",
              "      <td>1</td>\n",
              "      <td>1</td>\n",
              "    </tr>\n",
              "    <tr>\n",
              "      <th>127</th>\n",
              "      <td>1</td>\n",
              "      <td>1</td>\n",
              "      <td>2</td>\n",
              "      <td>1</td>\n",
              "      <td>1</td>\n",
              "      <td>1</td>\n",
              "      <td>0</td>\n",
              "      <td>0</td>\n",
              "      <td>0</td>\n",
              "      <td>0</td>\n",
              "      <td>0</td>\n",
              "      <td>0</td>\n",
              "      <td>0</td>\n",
              "      <td>0</td>\n",
              "      <td>0</td>\n",
              "      <td>0</td>\n",
              "      <td>0</td>\n",
              "      <td>0</td>\n",
              "    </tr>\n",
              "  </tbody>\n",
              "</table>\n",
              "<p>128 rows × 18 columns</p>\n",
              "</div>"
            ],
            "text/plain": [
              "     gender  age  kidney_t  ...  swelling_s  hypertension_s  classification_s\n",
              "0         1    1         0  ...           1               0                 1\n",
              "1         0    0         3  ...           0               0                 0\n",
              "2         1    2         1  ...           0               1                 1\n",
              "3         0    0         0  ...           0               0                 0\n",
              "4         0    3         0  ...           0               0                 1\n",
              "..      ...  ...       ...  ...         ...             ...               ...\n",
              "123       1    3         0  ...           1               1                 1\n",
              "124       0    0         0  ...           0               1                 1\n",
              "125       1    1         0  ...           0               1                 1\n",
              "126       1    3         2  ...           1               1                 1\n",
              "127       1    1         2  ...           0               0                 0\n",
              "\n",
              "[128 rows x 18 columns]"
            ]
          },
          "metadata": {
            "tags": []
          },
          "execution_count": 40
        }
      ]
    },
    {
      "cell_type": "code",
      "metadata": {
        "id": "1zX28cv1Q_Ji"
      },
      "source": [
        "df[\"classification_s\"].replace({\"Critical Patient\":\"1\"}, inplace=True)\n",
        "df[\"classification_s\"].replace({\"Not a Critical Patient\": \"0\" }, inplace=True)"
      ],
      "execution_count": 41,
      "outputs": []
    },
    {
      "cell_type": "code",
      "metadata": {
        "colab": {
          "base_uri": "https://localhost:8080/",
          "height": 419
        },
        "id": "npHpXDIMQ_Ji",
        "outputId": "073a5de5-8212-45a7-f2be-b6d5bdf21a7b"
      },
      "source": [
        "df"
      ],
      "execution_count": 42,
      "outputs": [
        {
          "output_type": "execute_result",
          "data": {
            "text/html": [
              "<div>\n",
              "<style scoped>\n",
              "    .dataframe tbody tr th:only-of-type {\n",
              "        vertical-align: middle;\n",
              "    }\n",
              "\n",
              "    .dataframe tbody tr th {\n",
              "        vertical-align: top;\n",
              "    }\n",
              "\n",
              "    .dataframe thead th {\n",
              "        text-align: right;\n",
              "    }\n",
              "</style>\n",
              "<table border=\"1\" class=\"dataframe\">\n",
              "  <thead>\n",
              "    <tr style=\"text-align: right;\">\n",
              "      <th></th>\n",
              "      <th>gender</th>\n",
              "      <th>age</th>\n",
              "      <th>kidney_t</th>\n",
              "      <th>pressure_le</th>\n",
              "      <th>nausea_s</th>\n",
              "      <th>vomit_s</th>\n",
              "      <th>appetite_s</th>\n",
              "      <th>itching_s</th>\n",
              "      <th>hiccups_s</th>\n",
              "      <th>taste_s</th>\n",
              "      <th>fatigue_s</th>\n",
              "      <th>sleep_s</th>\n",
              "      <th>urinate_s</th>\n",
              "      <th>mental_s</th>\n",
              "      <th>muscle_s</th>\n",
              "      <th>swelling_s</th>\n",
              "      <th>hypertension_s</th>\n",
              "      <th>classification_s</th>\n",
              "    </tr>\n",
              "  </thead>\n",
              "  <tbody>\n",
              "    <tr>\n",
              "      <th>0</th>\n",
              "      <td>1</td>\n",
              "      <td>1</td>\n",
              "      <td>0</td>\n",
              "      <td>0</td>\n",
              "      <td>1</td>\n",
              "      <td>0</td>\n",
              "      <td>1</td>\n",
              "      <td>0</td>\n",
              "      <td>1</td>\n",
              "      <td>0</td>\n",
              "      <td>1</td>\n",
              "      <td>1</td>\n",
              "      <td>0</td>\n",
              "      <td>1</td>\n",
              "      <td>0</td>\n",
              "      <td>1</td>\n",
              "      <td>0</td>\n",
              "      <td>1</td>\n",
              "    </tr>\n",
              "    <tr>\n",
              "      <th>1</th>\n",
              "      <td>0</td>\n",
              "      <td>0</td>\n",
              "      <td>3</td>\n",
              "      <td>0</td>\n",
              "      <td>0</td>\n",
              "      <td>0</td>\n",
              "      <td>0</td>\n",
              "      <td>0</td>\n",
              "      <td>0</td>\n",
              "      <td>0</td>\n",
              "      <td>0</td>\n",
              "      <td>0</td>\n",
              "      <td>0</td>\n",
              "      <td>0</td>\n",
              "      <td>0</td>\n",
              "      <td>0</td>\n",
              "      <td>0</td>\n",
              "      <td>0</td>\n",
              "    </tr>\n",
              "    <tr>\n",
              "      <th>2</th>\n",
              "      <td>1</td>\n",
              "      <td>2</td>\n",
              "      <td>1</td>\n",
              "      <td>1</td>\n",
              "      <td>0</td>\n",
              "      <td>1</td>\n",
              "      <td>0</td>\n",
              "      <td>1</td>\n",
              "      <td>1</td>\n",
              "      <td>0</td>\n",
              "      <td>0</td>\n",
              "      <td>1</td>\n",
              "      <td>1</td>\n",
              "      <td>1</td>\n",
              "      <td>1</td>\n",
              "      <td>0</td>\n",
              "      <td>1</td>\n",
              "      <td>1</td>\n",
              "    </tr>\n",
              "    <tr>\n",
              "      <th>3</th>\n",
              "      <td>0</td>\n",
              "      <td>0</td>\n",
              "      <td>0</td>\n",
              "      <td>1</td>\n",
              "      <td>0</td>\n",
              "      <td>1</td>\n",
              "      <td>0</td>\n",
              "      <td>1</td>\n",
              "      <td>0</td>\n",
              "      <td>0</td>\n",
              "      <td>1</td>\n",
              "      <td>1</td>\n",
              "      <td>1</td>\n",
              "      <td>0</td>\n",
              "      <td>1</td>\n",
              "      <td>0</td>\n",
              "      <td>0</td>\n",
              "      <td>0</td>\n",
              "    </tr>\n",
              "    <tr>\n",
              "      <th>4</th>\n",
              "      <td>0</td>\n",
              "      <td>3</td>\n",
              "      <td>0</td>\n",
              "      <td>0</td>\n",
              "      <td>1</td>\n",
              "      <td>0</td>\n",
              "      <td>1</td>\n",
              "      <td>1</td>\n",
              "      <td>0</td>\n",
              "      <td>1</td>\n",
              "      <td>1</td>\n",
              "      <td>0</td>\n",
              "      <td>1</td>\n",
              "      <td>0</td>\n",
              "      <td>1</td>\n",
              "      <td>0</td>\n",
              "      <td>0</td>\n",
              "      <td>1</td>\n",
              "    </tr>\n",
              "    <tr>\n",
              "      <th>...</th>\n",
              "      <td>...</td>\n",
              "      <td>...</td>\n",
              "      <td>...</td>\n",
              "      <td>...</td>\n",
              "      <td>...</td>\n",
              "      <td>...</td>\n",
              "      <td>...</td>\n",
              "      <td>...</td>\n",
              "      <td>...</td>\n",
              "      <td>...</td>\n",
              "      <td>...</td>\n",
              "      <td>...</td>\n",
              "      <td>...</td>\n",
              "      <td>...</td>\n",
              "      <td>...</td>\n",
              "      <td>...</td>\n",
              "      <td>...</td>\n",
              "      <td>...</td>\n",
              "    </tr>\n",
              "    <tr>\n",
              "      <th>123</th>\n",
              "      <td>1</td>\n",
              "      <td>3</td>\n",
              "      <td>0</td>\n",
              "      <td>1</td>\n",
              "      <td>1</td>\n",
              "      <td>1</td>\n",
              "      <td>0</td>\n",
              "      <td>1</td>\n",
              "      <td>1</td>\n",
              "      <td>1</td>\n",
              "      <td>1</td>\n",
              "      <td>1</td>\n",
              "      <td>0</td>\n",
              "      <td>1</td>\n",
              "      <td>0</td>\n",
              "      <td>1</td>\n",
              "      <td>1</td>\n",
              "      <td>1</td>\n",
              "    </tr>\n",
              "    <tr>\n",
              "      <th>124</th>\n",
              "      <td>0</td>\n",
              "      <td>0</td>\n",
              "      <td>0</td>\n",
              "      <td>0</td>\n",
              "      <td>1</td>\n",
              "      <td>0</td>\n",
              "      <td>1</td>\n",
              "      <td>0</td>\n",
              "      <td>0</td>\n",
              "      <td>1</td>\n",
              "      <td>0</td>\n",
              "      <td>1</td>\n",
              "      <td>1</td>\n",
              "      <td>0</td>\n",
              "      <td>1</td>\n",
              "      <td>0</td>\n",
              "      <td>1</td>\n",
              "      <td>1</td>\n",
              "    </tr>\n",
              "    <tr>\n",
              "      <th>125</th>\n",
              "      <td>1</td>\n",
              "      <td>1</td>\n",
              "      <td>0</td>\n",
              "      <td>0</td>\n",
              "      <td>1</td>\n",
              "      <td>0</td>\n",
              "      <td>1</td>\n",
              "      <td>0</td>\n",
              "      <td>1</td>\n",
              "      <td>0</td>\n",
              "      <td>1</td>\n",
              "      <td>0</td>\n",
              "      <td>1</td>\n",
              "      <td>0</td>\n",
              "      <td>1</td>\n",
              "      <td>0</td>\n",
              "      <td>1</td>\n",
              "      <td>1</td>\n",
              "    </tr>\n",
              "    <tr>\n",
              "      <th>126</th>\n",
              "      <td>1</td>\n",
              "      <td>3</td>\n",
              "      <td>2</td>\n",
              "      <td>0</td>\n",
              "      <td>1</td>\n",
              "      <td>0</td>\n",
              "      <td>1</td>\n",
              "      <td>0</td>\n",
              "      <td>1</td>\n",
              "      <td>0</td>\n",
              "      <td>1</td>\n",
              "      <td>0</td>\n",
              "      <td>1</td>\n",
              "      <td>0</td>\n",
              "      <td>0</td>\n",
              "      <td>1</td>\n",
              "      <td>1</td>\n",
              "      <td>1</td>\n",
              "    </tr>\n",
              "    <tr>\n",
              "      <th>127</th>\n",
              "      <td>1</td>\n",
              "      <td>1</td>\n",
              "      <td>2</td>\n",
              "      <td>1</td>\n",
              "      <td>1</td>\n",
              "      <td>1</td>\n",
              "      <td>0</td>\n",
              "      <td>0</td>\n",
              "      <td>0</td>\n",
              "      <td>0</td>\n",
              "      <td>0</td>\n",
              "      <td>0</td>\n",
              "      <td>0</td>\n",
              "      <td>0</td>\n",
              "      <td>0</td>\n",
              "      <td>0</td>\n",
              "      <td>0</td>\n",
              "      <td>0</td>\n",
              "    </tr>\n",
              "  </tbody>\n",
              "</table>\n",
              "<p>128 rows × 18 columns</p>\n",
              "</div>"
            ],
            "text/plain": [
              "     gender  age  kidney_t  ...  swelling_s  hypertension_s  classification_s\n",
              "0         1    1         0  ...           1               0                 1\n",
              "1         0    0         3  ...           0               0                 0\n",
              "2         1    2         1  ...           0               1                 1\n",
              "3         0    0         0  ...           0               0                 0\n",
              "4         0    3         0  ...           0               0                 1\n",
              "..      ...  ...       ...  ...         ...             ...               ...\n",
              "123       1    3         0  ...           1               1                 1\n",
              "124       0    0         0  ...           0               1                 1\n",
              "125       1    1         0  ...           0               1                 1\n",
              "126       1    3         2  ...           1               1                 1\n",
              "127       1    1         2  ...           0               0                 0\n",
              "\n",
              "[128 rows x 18 columns]"
            ]
          },
          "metadata": {
            "tags": []
          },
          "execution_count": 42
        }
      ]
    },
    {
      "cell_type": "code",
      "metadata": {
        "colab": {
          "base_uri": "https://localhost:8080/"
        },
        "id": "ziJE1h7SQ_Ji",
        "outputId": "9acb5dab-38dc-49be-e9f9-afd85db3f689"
      },
      "source": [
        "df.info()"
      ],
      "execution_count": 43,
      "outputs": [
        {
          "output_type": "stream",
          "text": [
            "<class 'pandas.core.frame.DataFrame'>\n",
            "RangeIndex: 128 entries, 0 to 127\n",
            "Data columns (total 18 columns):\n",
            " #   Column            Non-Null Count  Dtype \n",
            "---  ------            --------------  ----- \n",
            " 0   gender            128 non-null    int64 \n",
            " 1   age               128 non-null    int64 \n",
            " 2   kidney_t          128 non-null    int64 \n",
            " 3   pressure_le       128 non-null    int64 \n",
            " 4   nausea_s          128 non-null    int64 \n",
            " 5   vomit_s           128 non-null    int64 \n",
            " 6   appetite_s        128 non-null    int64 \n",
            " 7   itching_s         128 non-null    int64 \n",
            " 8   hiccups_s         128 non-null    int64 \n",
            " 9   taste_s           128 non-null    int64 \n",
            " 10  fatigue_s         128 non-null    int64 \n",
            " 11  sleep_s           128 non-null    int64 \n",
            " 12  urinate_s         128 non-null    int64 \n",
            " 13  mental_s          128 non-null    int64 \n",
            " 14  muscle_s          128 non-null    int64 \n",
            " 15  swelling_s        128 non-null    int64 \n",
            " 16  hypertension_s    128 non-null    int64 \n",
            " 17  classification_s  128 non-null    object\n",
            "dtypes: int64(17), object(1)\n",
            "memory usage: 18.1+ KB\n"
          ],
          "name": "stdout"
        }
      ]
    },
    {
      "cell_type": "code",
      "metadata": {
        "id": "tQZklFegQ_Ji"
      },
      "source": [
        "from sklearn.model_selection import train_test_split\n",
        "\n",
        "X = df.drop(columns=['classification_s'])\n",
        "y = df['classification_s']\n",
        "X_train,X_test,y_train,y_test = train_test_split(X,y,test_size=0.4,random_state=42)"
      ],
      "execution_count": 44,
      "outputs": []
    },
    {
      "cell_type": "code",
      "metadata": {
        "id": "AYQ05--hQ_Ji"
      },
      "source": [
        " from sklearn import neighbors #impport libraries\n",
        "\n",
        "from sklearn import metrics\n",
        "\n",
        "k = 3 #define K\n",
        "\n",
        "knn = neighbors.KNeighborsClassifier(k)  #make model\n",
        "knn.fit(X_train,y_train) #train mode\n",
        "y_pred=knn.predict(X_test) #test model\n"
      ],
      "execution_count": 45,
      "outputs": []
    },
    {
      "cell_type": "code",
      "metadata": {
        "id": "tr4i0MyhQ_Ji"
      },
      "source": [
        "from sklearn.metrics import accuracy_score \n",
        "from sklearn.metrics import confusion_matrix\n",
        "import matplotlib.pyplot as plt \n",
        "\n",
        "accuracy = accuracy_score(y_test, y_pred) "
      ],
      "execution_count": 46,
      "outputs": []
    },
    {
      "cell_type": "code",
      "metadata": {
        "colab": {
          "base_uri": "https://localhost:8080/"
        },
        "id": "J9lhDp2QQ_Ji",
        "outputId": "4dfdc556-b304-4c80-fff4-fd8e67f1a40f"
      },
      "source": [
        "accuracy"
      ],
      "execution_count": 47,
      "outputs": [
        {
          "output_type": "execute_result",
          "data": {
            "text/plain": [
              "0.8653846153846154"
            ]
          },
          "metadata": {
            "tags": []
          },
          "execution_count": 47
        }
      ]
    },
    {
      "cell_type": "markdown",
      "metadata": {
        "id": "4KhPSAe6Q_Jj"
      },
      "source": [
        "### Data Modeling"
      ]
    },
    {
      "cell_type": "code",
      "metadata": {
        "id": "5-Xsx69TQ_Jj"
      },
      "source": [
        "from sklearn.svm import SVC\n",
        "from sklearn.ensemble import RandomForestClassifier\n",
        "from sklearn.neighbors import KNeighborsClassifier\n",
        "from sklearn.metrics import accuracy_score\n",
        "from sklearn.neural_network import MLPClassifier\n",
        "from sklearn.model_selection import cross_validate\n",
        "from sklearn.metrics import confusion_matrix, accuracy_score, precision_score, recall_score, f1_score\n",
        "from sklearn.naive_bayes import GaussianNB\n",
        "from sklearn.linear_model import LogisticRegression\n",
        "from sklearn import preprocessing\n",
        "from sklearn import model_selection\n",
        "from sklearn.metrics import confusion_matrix \n",
        "from sklearn.metrics import accuracy_score  \n",
        "from sklearn.metrics import classification_report "
      ],
      "execution_count": 48,
      "outputs": []
    },
    {
      "cell_type": "code",
      "metadata": {
        "id": "24rjvxhtQ_Jj"
      },
      "source": [
        "def calc_metrics(model_object, X_test, y_test,test_start_timer, test_stop_timer,training_start_timer, training_stop_timer):\n",
        "  \n",
        "  y_pred = model_object.predict(X_test)\n",
        "  \n",
        "  report_test_accuracy = accuracy_score(y_test, y_pred)\n",
        "  report_conf_matrix = confusion_matrix(y_test, y_pred)\n",
        "#   report_precision_rate = precision_score(y_test, y_pred)\n",
        "#   report_recall_rate = recall_score(y_test, y_pred,pos_label='bin)\n",
        "#   report_f1 = f1_score(y_test, y_pred,pos_label='binary')   \n",
        "  \n",
        "  performance_metrics = {'test_accuracy': report_test_accuracy,\\\n",
        "                         'confusion_matrix': report_conf_matrix,\\\n",
        "#                          'precision': report_precision_rate,\\\n",
        "#                          'recall': report_recall_rate,\\\n",
        "#                          'f1': report_f1,\\\n",
        "                         'testing_time':test_stop_timer - test_start_timer,\\\n",
        "                         'training_time': training_stop_timer - training_start_timer,\\\n",
        "                         'total_time':test_stop_timer-training_start_timer                       \n",
        "                        }\n",
        "  return performance_metrics"
      ],
      "execution_count": 49,
      "outputs": []
    },
    {
      "cell_type": "code",
      "metadata": {
        "colab": {
          "base_uri": "https://localhost:8080/"
        },
        "id": "AwWLf1chQ_Jj",
        "outputId": "f6863538-e5ce-4bdd-d841-6be70ee45fd1"
      },
      "source": [
        "#initializing the models\n",
        "import timeit\n",
        "\n",
        "\n",
        "MLP=MLPClassifier(solver='lbfgs', alpha=1e-5,\n",
        "                     hidden_layer_sizes=(5, 2), random_state=1)\n",
        "svm_model=SVC()\n",
        "bayes_model = GaussianNB()\n",
        "lr = LogisticRegression()\n",
        "random_forest_model = RandomForestClassifier(n_estimators=100, max_depth=20,random_state=7) \n",
        "\n",
        "#model array \n",
        "models = [svm_model,random_forest_model,bayes_model,lr,random_forest_model]\n",
        "\n",
        "#emphty array to store clasiifier score\n",
        "classifier_scores=[]\n",
        "\n",
        "#for cross validation \n",
        "kfold = model_selection.KFold(n_splits=7, random_state=100)\n",
        "\n",
        "\n",
        "for i in models:\n",
        "    w = timeit.default_timer() \n",
        "    i.fit(X_train, y_train) #train models in models array  (one by one)\n",
        "    x = timeit.default_timer()\n",
        "    predict=i.predict(X_test) # test the models in the models array (one by one)\n",
        "    y=timeit.default_timer() #test_stop_timer\n",
        "#     cv_score = model_selection.cross_val_score(model,train_x, train_y, cv=kfold)\n",
        "    classifier_scores.append(calc_metrics(i, X_test, y_test,x,y,w,x)) #classifier scores as a data array\n",
        "    \n",
        "\n",
        "\n",
        "#converting classifier score array to a dataframe    \n",
        "\n",
        "df_model_performance = pd.DataFrame(classifier_scores, \\\n",
        "                                    index=['MultiLinerar Perceptron', 'support Vector Machine', \\\n",
        "                                           'Naiive Bayes', 'Logistic regression',  \\\n",
        "                                           'RF'\\\n",
        "                                          ]\\\n",
        "                                   )\n"
      ],
      "execution_count": 50,
      "outputs": [
        {
          "output_type": "stream",
          "text": [
            "/usr/local/lib/python3.7/dist-packages/sklearn/model_selection/_split.py:296: FutureWarning: Setting a random_state has no effect since shuffle is False. This will raise an error in 0.24. You should leave random_state to its default (None), or set shuffle=True.\n",
            "  FutureWarning\n"
          ],
          "name": "stderr"
        }
      ]
    },
    {
      "cell_type": "code",
      "metadata": {
        "colab": {
          "base_uri": "https://localhost:8080/",
          "height": 204
        },
        "id": "c51c3CcRQ_Jj",
        "outputId": "f2a6563e-73b9-4154-8420-e653ca4a0d10"
      },
      "source": [
        "df_model_performance"
      ],
      "execution_count": 51,
      "outputs": [
        {
          "output_type": "execute_result",
          "data": {
            "text/html": [
              "<div>\n",
              "<style scoped>\n",
              "    .dataframe tbody tr th:only-of-type {\n",
              "        vertical-align: middle;\n",
              "    }\n",
              "\n",
              "    .dataframe tbody tr th {\n",
              "        vertical-align: top;\n",
              "    }\n",
              "\n",
              "    .dataframe thead th {\n",
              "        text-align: right;\n",
              "    }\n",
              "</style>\n",
              "<table border=\"1\" class=\"dataframe\">\n",
              "  <thead>\n",
              "    <tr style=\"text-align: right;\">\n",
              "      <th></th>\n",
              "      <th>test_accuracy</th>\n",
              "      <th>confusion_matrix</th>\n",
              "      <th>testing_time</th>\n",
              "      <th>training_time</th>\n",
              "      <th>total_time</th>\n",
              "    </tr>\n",
              "  </thead>\n",
              "  <tbody>\n",
              "    <tr>\n",
              "      <th>MultiLinerar Perceptron</th>\n",
              "      <td>0.903846</td>\n",
              "      <td>[[9, 5], [0, 38]]</td>\n",
              "      <td>0.000881</td>\n",
              "      <td>0.001914</td>\n",
              "      <td>0.002795</td>\n",
              "    </tr>\n",
              "    <tr>\n",
              "      <th>support Vector Machine</th>\n",
              "      <td>0.903846</td>\n",
              "      <td>[[10, 4], [1, 37]]</td>\n",
              "      <td>0.009110</td>\n",
              "      <td>0.140679</td>\n",
              "      <td>0.149790</td>\n",
              "    </tr>\n",
              "    <tr>\n",
              "      <th>Naiive Bayes</th>\n",
              "      <td>0.923077</td>\n",
              "      <td>[[10, 4], [0, 38]]</td>\n",
              "      <td>0.000739</td>\n",
              "      <td>0.001248</td>\n",
              "      <td>0.001987</td>\n",
              "    </tr>\n",
              "    <tr>\n",
              "      <th>Logistic regression</th>\n",
              "      <td>0.923077</td>\n",
              "      <td>[[10, 4], [0, 38]]</td>\n",
              "      <td>0.000776</td>\n",
              "      <td>0.010970</td>\n",
              "      <td>0.011746</td>\n",
              "    </tr>\n",
              "    <tr>\n",
              "      <th>RF</th>\n",
              "      <td>0.903846</td>\n",
              "      <td>[[10, 4], [1, 37]]</td>\n",
              "      <td>0.009072</td>\n",
              "      <td>0.134466</td>\n",
              "      <td>0.143538</td>\n",
              "    </tr>\n",
              "  </tbody>\n",
              "</table>\n",
              "</div>"
            ],
            "text/plain": [
              "                         test_accuracy  ... total_time\n",
              "MultiLinerar Perceptron       0.903846  ...   0.002795\n",
              "support Vector Machine        0.903846  ...   0.149790\n",
              "Naiive Bayes                  0.923077  ...   0.001987\n",
              "Logistic regression           0.923077  ...   0.011746\n",
              "RF                            0.903846  ...   0.143538\n",
              "\n",
              "[5 rows x 5 columns]"
            ]
          },
          "metadata": {
            "tags": []
          },
          "execution_count": 51
        }
      ]
    },
    {
      "cell_type": "code",
      "metadata": {
        "id": "uLUZQcuEQ_Jk"
      },
      "source": [
        ""
      ],
      "execution_count": 51,
      "outputs": []
    }
  ]
}